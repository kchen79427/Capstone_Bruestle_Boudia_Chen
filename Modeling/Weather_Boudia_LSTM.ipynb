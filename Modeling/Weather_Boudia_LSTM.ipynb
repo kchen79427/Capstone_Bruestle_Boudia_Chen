{
  "nbformat": 4,
  "nbformat_minor": 0,
  "metadata": {
    "colab": {
      "provenance": [],
      "mount_file_id": "1t4V0Vw6Adk3NMszQ2_Oow_AG9AnQ_jba",
      "authorship_tag": "ABX9TyMpYASxu2L4j5viV/Tkud+P",
      "include_colab_link": true
    },
    "kernelspec": {
      "name": "python3",
      "display_name": "Python 3"
    },
    "language_info": {
      "name": "python"
    }
  },
  "cells": [
    {
      "cell_type": "markdown",
      "metadata": {
        "id": "view-in-github",
        "colab_type": "text"
      },
      "source": [
        "<a href=\"https://colab.research.google.com/github/kchen79427/Capstone_Bruestle_Boudia_Chen/blob/dave_branch/Modeling/Weather_Boudia_LSTM.ipynb\" target=\"_parent\"><img src=\"https://colab.research.google.com/assets/colab-badge.svg\" alt=\"Open In Colab\"/></a>"
      ]
    },
    {
      "cell_type": "code",
      "source": [
        "!pip install pyspark"
      ],
      "metadata": {
        "colab": {
          "base_uri": "https://localhost:8080/"
        },
        "id": "O45q1VOulZIU",
        "outputId": "36c59364-9246-49b3-b435-fa9ab67e28dc"
      },
      "execution_count": 2,
      "outputs": [
        {
          "output_type": "stream",
          "name": "stdout",
          "text": [
            "Collecting pyspark\n",
            "  Downloading pyspark-3.4.1.tar.gz (310.8 MB)\n",
            "\u001b[2K     \u001b[90m━━━━━━━━━━━━━━━━━━━━━━━━━━━━━━━━━━━━━━━\u001b[0m \u001b[32m310.8/310.8 MB\u001b[0m \u001b[31m4.3 MB/s\u001b[0m eta \u001b[36m0:00:00\u001b[0m\n",
            "\u001b[?25h  Preparing metadata (setup.py) ... \u001b[?25l\u001b[?25hdone\n",
            "Requirement already satisfied: py4j==0.10.9.7 in /usr/local/lib/python3.10/dist-packages (from pyspark) (0.10.9.7)\n",
            "Building wheels for collected packages: pyspark\n",
            "  Building wheel for pyspark (setup.py) ... \u001b[?25l\u001b[?25hdone\n",
            "  Created wheel for pyspark: filename=pyspark-3.4.1-py2.py3-none-any.whl size=311285398 sha256=8a04af6feef6a5f60c35c4b348d05f2ec6e5f988dbef43e86d3e34364f4fb726\n",
            "  Stored in directory: /root/.cache/pip/wheels/0d/77/a3/ff2f74cc9ab41f8f594dabf0579c2a7c6de920d584206e0834\n",
            "Successfully built pyspark\n",
            "Installing collected packages: pyspark\n",
            "Successfully installed pyspark-3.4.1\n"
          ]
        }
      ]
    },
    {
      "cell_type": "code",
      "execution_count": 195,
      "metadata": {
        "id": "oD4a88GRk7Ko"
      },
      "outputs": [],
      "source": [
        "import tensorflow as tf\n",
        "from tensorflow.keras.layers import Dense, Activation, Dropout, Input, Reshape, Lambda, RepeatVector\n",
        "from tensorflow.keras.models import Model\n",
        "from tensorflow.keras.optimizers import Adam\n",
        "from tensorflow.keras.utils import to_categorical\n",
        "import pandas as pd\n",
        "from pyspark.sql import SparkSession\n",
        "from pyspark.sql.functions import col\n",
        "from pyspark.sql.functions import udf\n",
        "from pyspark.sql.functions import to_timestamp\n",
        "from pyspark.sql.types import TimestampType\n",
        "import json\n",
        "from datetime import datetime"
      ]
    },
    {
      "cell_type": "code",
      "source": [
        "spark =  SparkSession.builder.master(\"local[*]\") \\\n",
        "  .appName('Takeoff') \\\n",
        "  .getOrCreate()"
      ],
      "metadata": {
        "id": "V59VRewMncbM"
      },
      "execution_count": 7,
      "outputs": []
    },
    {
      "cell_type": "code",
      "source": [],
      "metadata": {
        "id": "tzN041MbJw1h"
      },
      "execution_count": null,
      "outputs": []
    },
    {
      "cell_type": "markdown",
      "source": [
        "# Helper Functions"
      ],
      "metadata": {
        "id": "A6WznUR5JydK"
      }
    },
    {
      "cell_type": "code",
      "source": [
        "# load json object for referencing filepaths\n",
        "files = json.load(open('drive/Shareddrives/STUDENT-Capstone SS23/files.json','r'))"
      ],
      "metadata": {
        "id": "VXsKv9NTk9iD"
      },
      "execution_count": 52,
      "outputs": []
    },
    {
      "cell_type": "code",
      "source": [
        "def createFlightDT(fdate, ftime):\n",
        "  # Creates a date-time timestamp\n",
        "  lst = [x for x in ftime]\n",
        "  lst.insert(2,':') # insert a column to delineate hour from min\n",
        "  fdt = fdate + ' ' + \"\".join(lst) + ':00'\n",
        "  fdt = datetime.strptime(fdt, '%Y-%m-%d %H:%M:%S')\n",
        "  return fdt"
      ],
      "metadata": {
        "id": "roCMgR9XmWro"
      },
      "execution_count": 218,
      "outputs": []
    },
    {
      "cell_type": "markdown",
      "source": [
        "# Load Weather Training Data"
      ],
      "metadata": {
        "id": "oE6zAXhHDsvs"
      }
    },
    {
      "cell_type": "code",
      "source": [
        "# Load Weather data from parquet into spark DataFrame\n",
        "weather = spark.read.parquet(files['Weather']['Origin'])\n",
        "weather.createOrReplaceTempView('All_Weather')"
      ],
      "metadata": {
        "id": "KdlB15WnoBN3"
      },
      "execution_count": 88,
      "outputs": []
    },
    {
      "cell_type": "code",
      "source": [
        "# If getting DFW Weather Specifically\n",
        "DFW_weather = spark.sql(\"Select * FROM All_Weather WHERE Origin = 'DFW'\")\n",
        "DFW_weather.createOrReplaceTempView('weather')"
      ],
      "metadata": {
        "id": "aTfEMVd7opng"
      },
      "execution_count": 90,
      "outputs": []
    },
    {
      "cell_type": "code",
      "source": [],
      "metadata": {
        "id": "kgHX-EYVNSWb"
      },
      "execution_count": 112,
      "outputs": []
    },
    {
      "cell_type": "markdown",
      "source": [
        "# Load Flight Data"
      ],
      "metadata": {
        "id": "uf066-ZEK9YN"
      }
    },
    {
      "cell_type": "code",
      "source": [
        "spdf = spark.read.parquet(files['BTS']['OnTime'])"
      ],
      "metadata": {
        "id": "zGkB5yIJo00s"
      },
      "execution_count": 219,
      "outputs": []
    },
    {
      "cell_type": "code",
      "source": [
        "# Create a unique Flight ID for each flight for easy reference\n",
        "dfw = spdf.withColumn('Flight_Num', col('Reporting_Airline') + \\\n",
        "                    col('Flight_Number_Reporting_Airline') + \\\n",
        "                    col('FlightDate'))"
      ],
      "metadata": {
        "id": "OPq3C47j0Bok"
      },
      "execution_count": 220,
      "outputs": []
    },
    {
      "cell_type": "code",
      "source": [
        "# Create a Flight Date/Time Timestamp to be able to compare to the Weather Dataset\n",
        "func = udf(lambda x,y: createFlightDT(x,y))\n",
        "dfw = dfw.withColumn('Flight_DateTime', to_timestamp(func(dfw.FlightDate, dfw.DepTime)))"
      ],
      "metadata": {
        "id": "_AwgIwgEGF4K"
      },
      "execution_count": 221,
      "outputs": []
    },
    {
      "cell_type": "code",
      "source": [
        "dfw.createOrReplaceTempView('Ontime')"
      ],
      "metadata": {
        "id": "acKfAsKZkbA4"
      },
      "execution_count": 222,
      "outputs": []
    },
    {
      "cell_type": "code",
      "source": [
        "dfw.columns"
      ],
      "metadata": {
        "colab": {
          "base_uri": "https://localhost:8080/"
        },
        "id": "ccgbPO4Rdvzi",
        "outputId": "6c79fcdd-ee7b-4567-da07-67b112acb93b"
      },
      "execution_count": 234,
      "outputs": [
        {
          "output_type": "execute_result",
          "data": {
            "text/plain": [
              "['Year',\n",
              " 'Quarter',\n",
              " 'Month',\n",
              " 'DayofMonth',\n",
              " 'DayOfWeek',\n",
              " 'FlightDate',\n",
              " 'Reporting_Airline',\n",
              " 'DOT_ID_Reporting_Airline',\n",
              " 'IATA_CODE_Reporting_Airline',\n",
              " 'Tail_Number',\n",
              " 'Flight_Number_Reporting_Airline',\n",
              " 'OriginAirportID',\n",
              " 'OriginAirportSeqID',\n",
              " 'OriginCityMarketID',\n",
              " 'Origin',\n",
              " 'OriginCityName',\n",
              " 'OriginState',\n",
              " 'OriginStateFips',\n",
              " 'OriginStateName',\n",
              " 'OriginWac',\n",
              " 'DestAirportID',\n",
              " 'DestAirportSeqID',\n",
              " 'DestCityMarketID',\n",
              " 'Dest',\n",
              " 'DestCityName',\n",
              " 'DestState',\n",
              " 'DestStateFips',\n",
              " 'DestStateName',\n",
              " 'DestWac',\n",
              " 'CRSDepTime',\n",
              " 'DepTime',\n",
              " 'DepDelay',\n",
              " 'DepDelayMinutes',\n",
              " 'DepDel15',\n",
              " 'DepartureDelayGroups',\n",
              " 'DepTimeBlk',\n",
              " 'TaxiOut',\n",
              " 'WheelsOff',\n",
              " 'WheelsOn',\n",
              " 'TaxiIn',\n",
              " 'CRSArrTime',\n",
              " 'ArrTime',\n",
              " 'ArrDelay',\n",
              " 'ArrDelayMinutes',\n",
              " 'ArrDel15',\n",
              " 'ArrivalDelayGroups',\n",
              " 'ArrTimeBlk',\n",
              " 'Cancelled',\n",
              " 'CancellationCode',\n",
              " 'Diverted',\n",
              " 'CRSElapsedTime',\n",
              " 'ActualElapsedTime',\n",
              " 'AirTime',\n",
              " 'Flights',\n",
              " 'Distance',\n",
              " 'DistanceGroup',\n",
              " 'CarrierDelay',\n",
              " 'WeatherDelay',\n",
              " 'NASDelay',\n",
              " 'SecurityDelay',\n",
              " 'LateAircraftDelay',\n",
              " 'FirstDepTime',\n",
              " 'TotalAddGTime',\n",
              " 'LongestAddGTime',\n",
              " 'DivAirportLandings',\n",
              " 'DivReachedDest',\n",
              " 'DivActualElapsedTime',\n",
              " 'DivArrDelay',\n",
              " 'DivDistance',\n",
              " 'Div1Airport',\n",
              " 'Div1AirportID',\n",
              " 'Div1AirportSeqID',\n",
              " 'Div1WheelsOn',\n",
              " 'Div1TotalGTime',\n",
              " 'Div1LongestGTime',\n",
              " 'Div1WheelsOff',\n",
              " 'Div1TailNum',\n",
              " 'Div2Airport',\n",
              " 'Div2AirportID',\n",
              " 'Div2AirportSeqID',\n",
              " 'Div2WheelsOn',\n",
              " 'Div2TotalGTime',\n",
              " 'Div2LongestGTime',\n",
              " 'Div2WheelsOff',\n",
              " 'Div2TailNum',\n",
              " 'Div3Airport',\n",
              " 'Div3AirportID',\n",
              " 'Div3AirportSeqID',\n",
              " 'Div3WheelsOn',\n",
              " 'Div3TotalGTime',\n",
              " 'Div3LongestGTime',\n",
              " 'Div3WheelsOff',\n",
              " 'Div3TailNum',\n",
              " 'Div4Airport',\n",
              " 'Div4AirportID',\n",
              " 'Div4AirportSeqID',\n",
              " 'Div4WheelsOn',\n",
              " 'Div4TotalGTime',\n",
              " 'Div4LongestGTime',\n",
              " 'Div4WheelsOff',\n",
              " 'Div4TailNum',\n",
              " 'Div5Airport',\n",
              " 'Div5AirportID',\n",
              " 'Div5AirportSeqID',\n",
              " 'Div5WheelsOn',\n",
              " 'Div5TotalGTime',\n",
              " 'Div5LongestGTime',\n",
              " 'Div5WheelsOff',\n",
              " 'Div5TailNum',\n",
              " 'Flight_Num',\n",
              " 'Flight_DateTime']"
            ]
          },
          "metadata": {},
          "execution_count": 234
        }
      ]
    },
    {
      "cell_type": "code",
      "source": [
        "temp = spark.sql(\"\"\"\n",
        "                  Select\n",
        "                    Reporting_Airline,\n",
        "                    Flight_Number_Reporting_Airline,\n",
        "                    FlightDate,\n",
        "                    DepDelayMinutes,\n",
        "                    DepDelay,\n",
        "                    DepTime,\n",
        "                    ArrTime\n",
        "                  FROM\n",
        "                    OnTime\n",
        "                  WHERE\n",
        "                    Origin = 'DFW' AND\n",
        "                    DepTime = ''\n",
        "\n",
        "          \"\"\")\n",
        "\n"
      ],
      "metadata": {
        "id": "QpHiQg27Mvli"
      },
      "execution_count": 241,
      "outputs": []
    },
    {
      "cell_type": "code",
      "source": [
        "temp.count()"
      ],
      "metadata": {
        "colab": {
          "base_uri": "https://localhost:8080/"
        },
        "id": "ABahTrFKY2Fk",
        "outputId": "0cd662d5-81d5-4a75-8c4c-51194cd60f2e"
      },
      "execution_count": 244,
      "outputs": [
        {
          "output_type": "execute_result",
          "data": {
            "text/plain": [
              "18137"
            ]
          },
          "metadata": {},
          "execution_count": 244
        }
      ]
    },
    {
      "cell_type": "markdown",
      "source": [
        "# Combine Weather Data with Flight"
      ],
      "metadata": {
        "id": "jqjO2rQ0MwYu"
      }
    },
    {
      "cell_type": "code",
      "source": [
        "result = spark.sql(\"SELECT \")"
      ],
      "metadata": {
        "id": "973n2SOflP8y"
      },
      "execution_count": 57,
      "outputs": []
    },
    {
      "cell_type": "code",
      "source": [],
      "metadata": {
        "colab": {
          "base_uri": "https://localhost:8080/"
        },
        "id": "IcuKPIhlmieJ",
        "outputId": "16cbf2b6-c866-4f4c-9149-d2df39913d66"
      },
      "execution_count": 63,
      "outputs": [
        {
          "output_type": "execute_result",
          "data": {
            "text/plain": [
              "<function __main__.createFlightDT(flightdate, deptime)>"
            ]
          },
          "metadata": {},
          "execution_count": 63
        }
      ]
    },
    {
      "cell_type": "code",
      "source": [
        "upd = spark.sql('''SELECT to_timestamp(create_flight_dt_sql(FlightDate,DepTime)) FROM OnTime LIMIT 5\n",
        "          ''')"
      ],
      "metadata": {
        "id": "_KLUDehMIjX5"
      },
      "execution_count": 64,
      "outputs": []
    },
    {
      "cell_type": "code",
      "source": [],
      "metadata": {
        "id": "diQRvwnMKcCp"
      },
      "execution_count": 78,
      "outputs": []
    },
    {
      "cell_type": "code",
      "source": [
        "spark.sql('Select Flight_DT FROM OnTime')"
      ],
      "metadata": {
        "colab": {
          "base_uri": "https://localhost:8080/"
        },
        "id": "RBqhLNQWBzU1",
        "outputId": "f79eaf50-c397-4d59-8ee2-f33484318626"
      },
      "execution_count": 81,
      "outputs": [
        {
          "output_type": "execute_result",
          "data": {
            "text/plain": [
              "DataFrame[Flight_DT: timestamp]"
            ]
          },
          "metadata": {},
          "execution_count": 81
        }
      ]
    },
    {
      "cell_type": "code",
      "source": [
        "spark_weather.createOrReplaceTempView('Weather')"
      ],
      "metadata": {
        "id": "LTJBpWfbuEee"
      },
      "execution_count": 69,
      "outputs": []
    },
    {
      "cell_type": "code",
      "source": [
        "rslts = spark.sql('Select * FROM Weather Limit 1')"
      ],
      "metadata": {
        "id": "5gUe5rgEtZpY"
      },
      "execution_count": 70,
      "outputs": []
    },
    {
      "cell_type": "code",
      "source": [
        "rslts.show()"
      ],
      "metadata": {
        "colab": {
          "base_uri": "https://localhost:8080/"
        },
        "id": "UVBepsUuy5uK",
        "outputId": "e1bd9b1e-cef1-476c-fab1-6aabe49e0551"
      },
      "execution_count": 71,
      "outputs": [
        {
          "output_type": "stream",
          "name": "stdout",
          "text": [
            "+------+----------+----------+-------------------+-------------------+-----------+----------+------+------------+------------+---------+----------+---------+-----------+--------+-------------+-------+------------+-------+------------+-------+------------+---------+--------------+--------------+--------------+---------------+---------------+-------+------------+----------------+-----------------+-----------+----------------+-----------+-----------+----------------+---------------+--------------------+--------------------+-------------------------+----------------------+----------------+--------------------+\n",
            "|Origin|FlightDate|CRSDepTime|         OriginDtTm|        WeatherDtTm|w_dir_angle|w_dir_qlty|w_type|w_speed_rate|w_speed_qlty|sky_c_hgt|sky_c_qlty|sky_c_det|sky_c_cavok|vis_dist|vis_dist_qlty|vis_var|vis_var_qlty|tmp_air|tmp_air_qlty|tmp_dew|tmp_dew_qlty|sea_lvl_p|sea_lvl_p_qlty|liq_precip_qty|liq_precip_dim|liq_precip_cond|liq_precip_qlty|sky_cov|sky_cov_qlty|sky_cov_base_hgt|sky_cov_base_qlty|sky_cov_cld|sky_cov_cld_qlty|sky_sum_cov|sky_sum_hgt|sky_sum_hgt_qlty|sky_obs_tot_cov|sky_obs_qlty_tot_cov|sky_low_cld_base_hgt|sky_low_cld_base_hgt_qlty|at_pres_altimeter_rate|at_pres_stn_rate|          weather_dt|\n",
            "+------+----------+----------+-------------------+-------------------+-----------+----------+------+------------+------------+---------+----------+---------+-----------+--------+-------------+-------+------------+-------+------------+-------+------------+---------+--------------+--------------+--------------+---------------+---------------+-------+------------+----------------+-----------------+-----------+----------------+-----------+-----------+----------------+---------------+--------------------+--------------------+-------------------------+----------------------+----------------+--------------------+\n",
            "|   DTW|2010-01-01|      1000|2010-01-01 10:00:00|2010-01-01 09:00:00|        260|         1|     N|          46|           1|    99999|         9|        9|          N|   11000|            1|      N|           1|  -0050|           1|  -0089|           1|    10179|             1|             3|             0|              2|              1|     99|        null|            null|             null|         99|            null|          9|       null|           99999|              8|                   1|                 450|                        1|                 99999|            9939|2010-01-01 2010-0...|\n",
            "+------+----------+----------+-------------------+-------------------+-----------+----------+------+------------+------------+---------+----------+---------+-----------+--------+-------------+-------+------------+-------+------------+-------+------------+---------+--------------+--------------+--------------+---------------+---------------+-------+------------+----------------+-----------------+-----------+----------------+-----------+-----------+----------------+---------------+--------------------+--------------------+-------------------------+----------------------+----------------+--------------------+\n",
            "\n"
          ]
        }
      ]
    },
    {
      "cell_type": "code",
      "source": [],
      "metadata": {
        "id": "9XllXl8JAsNM"
      },
      "execution_count": null,
      "outputs": []
    }
  ]
}