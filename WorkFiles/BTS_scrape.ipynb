{
 "cells": [
  {
   "cell_type": "code",
   "execution_count": 1,
   "metadata": {},
   "outputs": [],
   "source": [
    "from selenium import webdriver\n",
    "from selenium.webdriver.chrome.service import Service\n",
    "from selenium.webdriver.common.by import By\n",
    "from selenium.webdriver.chrome.options import Options\n",
    "from selenium.webdriver.common.action_chains import ActionChains\n",
    "from selenium.webdriver.support.select import Select\n",
    "from selenium import webdriver\n",
    "from selenium.webdriver.common.by import By\n",
    "from selenium.webdriver.support.ui import Select\n",
    "from selenium.webdriver.support.ui import WebDriverWait\n",
    "from selenium.webdriver.support import expected_conditions as EC\n",
    "width = 1024\n",
    "height = 1080\n",
    "\n",
    "\n",
    "chrome_options = Options()\n",
    "chrome_options.add_argument('--no-sandbox')\n",
    "chrome_options.add_argument('--headless')"
   ]
  },
  {
   "cell_type": "code",
   "execution_count": 2,
   "metadata": {},
   "outputs": [],
   "source": [
    "chrome_options = Options()\n",
    "chrome_options.add_argument(\"--headless\")  # Run in headless mode (optional)\n",
    "driver_service = Service(r\"C:\\Users\\kchen\\Downloads\\chromedriver_win32\\chromedriver.exe\")  # Set the path to your ChromeDriver executable\n",
    "driver = webdriver.Chrome(service=driver_service, options=chrome_options)\n"
   ]
  },
  {
   "attachments": {},
   "cell_type": "markdown",
   "metadata": {},
   "source": [
    "### On_Time"
   ]
  },
  {
   "cell_type": "code",
   "execution_count": 6,
   "metadata": {},
   "outputs": [],
   "source": [
    "from selenium import webdriver\n",
    "from selenium.webdriver.common.by import By\n",
    "from selenium.webdriver.support.ui import Select\n",
    "from selenium.webdriver.support.ui import WebDriverWait\n",
    "from selenium.webdriver.support import expected_conditions as EC\n",
    "\n",
    "# Initialize the WebDriver\n",
    "driver = webdriver.Chrome()\n",
    "\n",
    "# Navigate to the desired webpage\n",
    "driver.get(\"https://www.transtats.bts.gov/DL_SelectFields.aspx?gnoyr_VQ=FKF&QO_fu146_anzr=b4vtv0%20n0q%20Qr56v0n6v10%20f748rB\")\n",
    "checkbox = driver.find_element(By.ID,'chkDownloadZip')\n",
    "checkbox.click()\n",
    "year_dropdown = Select(driver.find_element(By.ID,'cboYear'))\n",
    "for year_option in year_dropdown.options[17:]:\n",
    "    year_dropdown.select_by_value(year_option.get_attribute(\"value\"))\n",
    "\n",
    "    # Wait for the dropdown element to be visible and clickable\n",
    "    wait = WebDriverWait(driver, 15)\n",
    "    dropdown_element = wait.until(EC.element_to_be_clickable((By.ID, \"cboPeriod\")))\n",
    "\n",
    "    # Create the Select object for the dropdown\n",
    "    dropdown = Select(dropdown_element)\n",
    "\n",
    "# Iterate through each option and select it\n",
    "    for option in dropdown.options:\n",
    "        try:\n",
    "            dropdown.select_by_value(option.get_attribute(\"value\"))\n",
    "            download_button=driver.find_element(By.ID,'btnDownload')\n",
    "            download_button.click()\n",
    "        except:\n",
    "            driver.back()\n",
    "\n",
    "# Close the WebDriver\n",
    "# driver.quit()\n"
   ]
  },
  {
   "attachments": {},
   "cell_type": "markdown",
   "metadata": {},
   "source": [
    "### Origin and Destination"
   ]
  },
  {
   "cell_type": "code",
   "execution_count": 3,
   "metadata": {},
   "outputs": [],
   "source": [
    "from selenium import webdriver\n",
    "from selenium.webdriver.common.by import By\n",
    "from selenium.webdriver.support.ui import Select\n",
    "from selenium.webdriver.support.ui import WebDriverWait\n",
    "from selenium.webdriver.support import expected_conditions as EC\n",
    "\n",
    "# Initialize the WebDriver\n",
    "driver = webdriver.Chrome()\n",
    "\n",
    "# Navigate to the desired webpage\n",
    "driver.get(\"https://www.transtats.bts.gov/DL_SelectFields.aspx?gnoyr_VQ=FHK&QO_fu146_anzr=b4vtv0%20n0q%20Qr56v0n6v10%20f748rB\")\n",
    "checkbox = driver.find_element(By.ID,'chkDownloadZip')\n",
    "checkbox.click()\n",
    "year_dropdown = Select(driver.find_element(By.ID,'cboYear'))\n",
    "for year_option in year_dropdown.options[5:]:\n",
    "    year_dropdown.select_by_value(year_option.get_attribute(\"value\"))\n",
    "\n",
    "    # Wait for the dropdown element to be visible and clickable\n",
    "    wait = WebDriverWait(driver, 10)\n",
    "    dropdown_element = wait.until(EC.element_to_be_clickable((By.ID, \"cboPeriod\")))\n",
    "\n",
    "    # Create the Select object for the dropdown\n",
    "    dropdown = Select(dropdown_element)\n",
    "\n",
    "# Iterate through each option and select it\n",
    "    for option in dropdown.options:\n",
    "        try:\n",
    "            dropdown.select_by_value(option.get_attribute(\"value\"))\n",
    "            download_button=driver.find_element(By.ID,'btnDownload')\n",
    "            download_button.click()\n",
    "        except:\n",
    "            driver.back()\n",
    "\n",
    "# Close the WebDriver\n",
    "driver.quit()\n"
   ]
  },
  {
   "cell_type": "code",
   "execution_count": null,
   "metadata": {},
   "outputs": [],
   "source": []
  }
 ],
 "metadata": {
  "kernelspec": {
   "display_name": "base",
   "language": "python",
   "name": "python3"
  },
  "language_info": {
   "codemirror_mode": {
    "name": "ipython",
    "version": 3
   },
   "file_extension": ".py",
   "mimetype": "text/x-python",
   "name": "python",
   "nbconvert_exporter": "python",
   "pygments_lexer": "ipython3",
   "version": "3.10.9"
  },
  "orig_nbformat": 4
 },
 "nbformat": 4,
 "nbformat_minor": 2
}
