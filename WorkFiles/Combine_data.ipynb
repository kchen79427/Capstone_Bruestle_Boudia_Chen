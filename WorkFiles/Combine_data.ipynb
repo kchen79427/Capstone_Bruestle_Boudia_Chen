{
 "cells": [
  {
   "cell_type": "code",
   "execution_count": 1,
   "metadata": {},
   "outputs": [],
   "source": [
    "import pandas as pd\n",
    "import zipfile\n",
    "import glob"
   ]
  },
  {
   "cell_type": "code",
   "execution_count": 2,
   "metadata": {},
   "outputs": [],
   "source": [
    "directory=r'C:\\Users\\kchen\\OneDrive\\MADS\\Capstone\\WORKFOLDER\\BTS_data\\ZIPS\\On_Time'\n",
    "zip_file_paths=glob.glob(directory+'/*')"
   ]
  },
  {
   "cell_type": "code",
   "execution_count": 3,
   "metadata": {},
   "outputs": [],
   "source": [
    "ontime_beginning=[]\n",
    "ontime=[]\n",
    "bad_df=[]\n",
    "# Iterate over the zip file paths and read the contents\n",
    "for zip_file_path in zip_file_paths:\n",
    "    with zipfile.ZipFile(zip_file_path, 'r') as zip_file:\n",
    "        # Get a list of all files in the zip archive\n",
    "        file_names = zip_file.namelist()\n",
    "        \n",
    "        # Iterate over the files in the zip archive\n",
    "        for file_name in file_names:\n",
    "            # Check if the file is a CSV file (you can modify the condition as needed)\n",
    "            if file_name.endswith('.csv'):\n",
    "                # Read the CSV file using pandas\n",
    "                with zip_file.open(file_name, 'r') as csv_file:\n",
    "                    try:\n",
    "                        df = pd.read_csv(csv_file,low_memory=False)\n",
    "                    except:\n",
    "                        bad_df.append(file_name)\n",
    "                        continue\n",
    "                    if \"Beginning\" in file_name:\n",
    "                        ontime_beginning.append(df)\n",
    "                    else:\n",
    "                        ontime.append(df)"
   ]
  },
  {
   "cell_type": "code",
   "execution_count": null,
   "metadata": {},
   "outputs": [],
   "source": [
    "ONT_B_DF=pd.concat(ontime_beginning,axis=1)\n",
    "\n",
    "ONT_DF=pd.concat(ontime,axis=1)"
   ]
  }
 ],
 "metadata": {
  "kernelspec": {
   "display_name": "base",
   "language": "python",
   "name": "python3"
  },
  "language_info": {
   "codemirror_mode": {
    "name": "ipython",
    "version": 3
   },
   "file_extension": ".py",
   "mimetype": "text/x-python",
   "name": "python",
   "nbconvert_exporter": "python",
   "pygments_lexer": "ipython3",
   "version": "3.10.9"
  },
  "orig_nbformat": 4
 },
 "nbformat": 4,
 "nbformat_minor": 2
}
