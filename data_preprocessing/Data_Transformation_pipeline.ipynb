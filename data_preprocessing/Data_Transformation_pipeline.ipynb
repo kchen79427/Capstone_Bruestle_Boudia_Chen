{
  "nbformat": 4,
  "nbformat_minor": 0,
  "metadata": {
    "colab": {
      "provenance": [],
      "mount_file_id": "1Q8ecSZkV5lJCFSJ81_QT1fG_3Qnyzdwg",
      "authorship_tag": "ABX9TyPyuUq2m4nnxyUiqcpPTSJa",
      "include_colab_link": true
    },
    "kernelspec": {
      "name": "python3",
      "display_name": "Python 3"
    },
    "language_info": {
      "name": "python"
    }
  },
  "cells": [
    {
      "cell_type": "markdown",
      "metadata": {
        "id": "view-in-github",
        "colab_type": "text"
      },
      "source": [
        "<a href=\"https://colab.research.google.com/github/kchen79427/Capstone_Bruestle_Boudia_Chen/blob/dave_branch/data_preprocessing/Data_Transformation_pipeline.ipynb\" target=\"_parent\"><img src=\"https://colab.research.google.com/assets/colab-badge.svg\" alt=\"Open In Colab\"/></a>"
      ]
    },
    {
      "cell_type": "code",
      "execution_count": null,
      "metadata": {
        "id": "uJKbpYjM4hCJ"
      },
      "outputs": [],
      "source": [
        "import pandas as pd\n",
        "import sklearn\n",
        "from sklearn.preprocessing import OneHotEncoder\n",
        "from sklearn.preprocessing import LabelEncoder, OrdinalEncoder\n",
        "from sklearn.compose import ColumnTransformer\n",
        "from sklearn.preprocessing import FunctionTransformer\n",
        "from sklearn.pipeline import Pipeline, FeatureUnion\n",
        "import re"
      ]
    },
    {
      "cell_type": "code",
      "source": [
        "pd.set_option('display.max_columns',150)"
      ],
      "metadata": {
        "id": "5TJqoZIo5VH0"
      },
      "execution_count": null,
      "outputs": []
    },
    {
      "cell_type": "code",
      "source": [
        "X_ds  = pd.read_parquet('/content/drive/Shareddrives/STUDENT-Capstone SS23/BTS_data/OnTime_WithWeather/OnTime_w_Weather_10_19_ml_cols.parquet')\n",
        "X = pd.read_parquet('/content/drive/Shareddrives/STUDENT-Capstone SS23/BTS_data/OnTime_WithWeather/OnTime_w_Weather_10_19.parquet')\n",
        "\n",
        "X_what = pd.read_parquet('/content/drive/Shareddrives/STUDENT-Capstone SS23/BTS_data/OnTime_WithWeather/OnTime_w_Weather_23.parquet')\n",
        "test = pd.read_parquet('/content/drive/Shareddrives/STUDENT-Capstone SS23/BTS_data/OnTime_WithWeather/OnTime_w_Weather_23_ml_cols.parquet')"
      ],
      "metadata": {
        "id": "B6Q6tT984kJu"
      },
      "execution_count": null,
      "outputs": []
    },
    {
      "cell_type": "code",
      "source": [
        "X_what.shape, test.shape, X.shape, X_ds.shape"
      ],
      "metadata": {
        "colab": {
          "base_uri": "https://localhost:8080/"
        },
        "id": "BFSAv_UEZbdV",
        "outputId": "7860de11-02a4-49fd-ced8-bccc81e6c961"
      },
      "execution_count": null,
      "outputs": [
        {
          "output_type": "execute_result",
          "data": {
            "text/plain": [
              "((293218, 119), (56924, 61), (293218, 119), (293218, 61))"
            ]
          },
          "metadata": {},
          "execution_count": 28
        }
      ]
    },
    {
      "cell_type": "code",
      "source": [
        "list(X.columns)"
      ],
      "metadata": {
        "colab": {
          "base_uri": "https://localhost:8080/"
        },
        "id": "oI-Y1IzcShhl",
        "outputId": "1875f37c-ac47-4175-e98f-ecda65029fa3"
      },
      "execution_count": null,
      "outputs": [
        {
          "output_type": "execute_result",
          "data": {
            "text/plain": [
              "['Year',\n",
              " 'Quarter',\n",
              " 'Month',\n",
              " 'DayofMonth',\n",
              " 'DayOfWeek',\n",
              " 'CRSDepHour',\n",
              " 'Reporting_Airline',\n",
              " 'OriginAirportSeqID',\n",
              " 'DestAirportSeqID',\n",
              " 'Dest',\n",
              " 'DestStateFips',\n",
              " 'CRSElapsedTime',\n",
              " 'Distance',\n",
              " 'DistanceGroup',\n",
              " 'mfr',\n",
              " 'passengers',\n",
              " 'engine_type',\n",
              " 'no_engines',\n",
              " 'w_dir_angle',\n",
              " 'w_type',\n",
              " 'w_speed_rate',\n",
              " 'sky_c_hgt',\n",
              " 'sky_c_det',\n",
              " 'vis_dist',\n",
              " 'tmp_air',\n",
              " 'tmp_dew',\n",
              " 'sea_lvl_p',\n",
              " 'liq_precip_qty',\n",
              " 'liq_precip_dim',\n",
              " 'liq_precip_cond',\n",
              " 'sky_cov',\n",
              " 'sky_cov_base_hgt',\n",
              " 'sky_cov_cld',\n",
              " 'sky_sum_cov',\n",
              " 'sky_sum_hgt',\n",
              " 'sky_obs_tot_cov',\n",
              " 'sky_low_cld_base_hgt',\n",
              " 'at_pres_altimeter_rate',\n",
              " 'at_pres_stn_rate',\n",
              " 'w_dir_angle_d',\n",
              " 'w_type_d',\n",
              " 'w_speed_rate_d',\n",
              " 'sky_c_hgt_d',\n",
              " 'sky_c_det_d',\n",
              " 'vis_dist_d',\n",
              " 'tmp_air_d',\n",
              " 'tmp_dew_d',\n",
              " 'sea_lvl_p_d',\n",
              " 'liq_precip_qty_d',\n",
              " 'liq_precip_dim_d',\n",
              " 'liq_precip_cond_d',\n",
              " 'sky_cov_d',\n",
              " 'sky_cov_base_hgt_d',\n",
              " 'sky_cov_cld_d',\n",
              " 'sky_sum_cov_d',\n",
              " 'sky_sum_hgt_d',\n",
              " 'sky_obs_tot_cov_d',\n",
              " 'sky_low_cld_base_hgt_d',\n",
              " 'at_pres_altimeter_rate_d',\n",
              " 'at_pres_stn_rate_d',\n",
              " 'Weather_Label']"
            ]
          },
          "metadata": {},
          "execution_count": 23
        }
      ]
    },
    {
      "cell_type": "code",
      "source": [
        "X.corr()['Weather_Label'].sort_values(ascending=False)"
      ],
      "metadata": {
        "colab": {
          "base_uri": "https://localhost:8080/"
        },
        "id": "basN3MreUVuu",
        "outputId": "e7f963e2-1c2f-4184-86cd-bbd28ea99a27"
      },
      "execution_count": null,
      "outputs": [
        {
          "output_type": "stream",
          "name": "stderr",
          "text": [
            "<ipython-input-6-210ac6352859>:1: FutureWarning: The default value of numeric_only in DataFrame.corr is deprecated. In a future version, it will default to False. Select only valid columns or specify the value of numeric_only to silence this warning.\n",
            "  X.corr()['Weather_Label'].sort_values(ascending=False)\n"
          ]
        },
        {
          "output_type": "execute_result",
          "data": {
            "text/plain": [
              "Weather_Label               1.000000\n",
              "CRSDepHour                  0.057540\n",
              "sea_lvl_p                   0.057018\n",
              "tmp_dew                     0.012607\n",
              "tmp_air                     0.007855\n",
              "DestAirportSeqID            0.003082\n",
              "passengers                  0.002188\n",
              "w_speed_rate                0.000288\n",
              "DestStateFips              -0.000032\n",
              "sea_lvl_p_d                -0.000102\n",
              "Year                       -0.000309\n",
              "no_engines                 -0.001481\n",
              "OriginAirportSeqID         -0.002134\n",
              "at_pres_stn_rate           -0.003125\n",
              "liq_precip_dim_d           -0.003617\n",
              "liq_precip_qty_d           -0.004781\n",
              "DayofMonth                 -0.006462\n",
              "liq_precip_cond_d          -0.006658\n",
              "Distance                   -0.006872\n",
              "DayOfWeek                  -0.007311\n",
              "sky_low_cld_base_hgt_d     -0.007367\n",
              "tmp_air_d                  -0.007819\n",
              "vis_dist                   -0.007873\n",
              "DistanceGroup              -0.008294\n",
              "CRSElapsedTime             -0.008361\n",
              "at_pres_stn_rate_d         -0.008381\n",
              "Month                      -0.008493\n",
              "tmp_dew_d                  -0.008636\n",
              "w_dir_angle_d              -0.009072\n",
              "w_speed_rate_d             -0.009176\n",
              "w_dir_angle                -0.009180\n",
              "at_pres_altimeter_rate_d   -0.009888\n",
              "vis_dist_d                 -0.010198\n",
              "sky_c_hgt_d                -0.010593\n",
              "at_pres_altimeter_rate     -0.010849\n",
              "Quarter                    -0.012715\n",
              "sky_sum_cov                -0.013473\n",
              "sky_sum_cov_d              -0.013771\n",
              "sky_cov_cld_d              -0.014212\n",
              "sky_c_hgt                  -0.015505\n",
              "sky_sum_hgt_d              -0.019652\n",
              "liq_precip_qty             -0.019691\n",
              "liq_precip_dim             -0.019932\n",
              "sky_cov_base_hgt_d         -0.021772\n",
              "sky_low_cld_base_hgt       -0.030411\n",
              "sky_sum_hgt                -0.038301\n",
              "sky_cov_base_hgt           -0.049744\n",
              "liq_precip_cond            -0.069593\n",
              "sky_cov_cld                -0.084066\n",
              "Name: Weather_Label, dtype: float64"
            ]
          },
          "metadata": {},
          "execution_count": 6
        }
      ]
    },
    {
      "cell_type": "code",
      "source": [
        "X.info(verbose=True)"
      ],
      "metadata": {
        "colab": {
          "base_uri": "https://localhost:8080/"
        },
        "id": "eBPVFhJe85ly",
        "outputId": "66ba0821-e735-4376-9265-1e5108ba5400"
      },
      "execution_count": null,
      "outputs": [
        {
          "output_type": "stream",
          "name": "stdout",
          "text": [
            "<class 'pandas.core.frame.DataFrame'>\n",
            "RangeIndex: 293218 entries, 0 to 293217\n",
            "Data columns (total 61 columns):\n",
            " #   Column                    Non-Null Count   Dtype \n",
            "---  ------                    --------------   ----- \n",
            " 0   Year                      293218 non-null  int32 \n",
            " 1   Quarter                   293218 non-null  int32 \n",
            " 2   Month                     293218 non-null  int32 \n",
            " 3   DayofMonth                293218 non-null  int32 \n",
            " 4   DayOfWeek                 293218 non-null  int32 \n",
            " 5   CRSDepHour                293218 non-null  int32 \n",
            " 6   Reporting_Airline         293218 non-null  object\n",
            " 7   OriginAirportSeqID        293218 non-null  int32 \n",
            " 8   DestAirportSeqID          293218 non-null  int32 \n",
            " 9   Dest                      293218 non-null  object\n",
            " 10  DestStateFips             293218 non-null  int32 \n",
            " 11  CRSElapsedTime            293218 non-null  int32 \n",
            " 12  Distance                  293218 non-null  int32 \n",
            " 13  DistanceGroup             293218 non-null  int32 \n",
            " 14  mfr                       293218 non-null  object\n",
            " 15  passengers                293218 non-null  int32 \n",
            " 16  engine_type               293218 non-null  object\n",
            " 17  no_engines                293218 non-null  int32 \n",
            " 18  w_dir_angle               293218 non-null  int32 \n",
            " 19  w_type                    293218 non-null  object\n",
            " 20  w_speed_rate              293218 non-null  int32 \n",
            " 21  sky_c_hgt                 293218 non-null  int32 \n",
            " 22  sky_c_det                 293218 non-null  object\n",
            " 23  vis_dist                  293218 non-null  int32 \n",
            " 24  tmp_air                   293218 non-null  int32 \n",
            " 25  tmp_dew                   293218 non-null  int32 \n",
            " 26  sea_lvl_p                 293218 non-null  int32 \n",
            " 27  liq_precip_qty            293218 non-null  int32 \n",
            " 28  liq_precip_dim            293218 non-null  int32 \n",
            " 29  liq_precip_cond           293218 non-null  int32 \n",
            " 30  sky_cov                   293218 non-null  object\n",
            " 31  sky_cov_base_hgt          293218 non-null  int32 \n",
            " 32  sky_cov_cld               293218 non-null  int32 \n",
            " 33  sky_sum_cov               293218 non-null  int32 \n",
            " 34  sky_sum_hgt               293218 non-null  int32 \n",
            " 35  sky_obs_tot_cov           293218 non-null  object\n",
            " 36  sky_low_cld_base_hgt      293218 non-null  int32 \n",
            " 37  at_pres_altimeter_rate    293218 non-null  int32 \n",
            " 38  at_pres_stn_rate          293218 non-null  int32 \n",
            " 39  w_dir_angle_d             293218 non-null  int32 \n",
            " 40  w_type_d                  293218 non-null  object\n",
            " 41  w_speed_rate_d            293218 non-null  int32 \n",
            " 42  sky_c_hgt_d               293218 non-null  int32 \n",
            " 43  sky_c_det_d               293218 non-null  object\n",
            " 44  vis_dist_d                293218 non-null  int32 \n",
            " 45  tmp_air_d                 293218 non-null  int32 \n",
            " 46  tmp_dew_d                 293218 non-null  int32 \n",
            " 47  sea_lvl_p_d               293218 non-null  int32 \n",
            " 48  liq_precip_qty_d          293218 non-null  int32 \n",
            " 49  liq_precip_dim_d          293218 non-null  int32 \n",
            " 50  liq_precip_cond_d         293218 non-null  int32 \n",
            " 51  sky_cov_d                 293218 non-null  object\n",
            " 52  sky_cov_base_hgt_d        293218 non-null  int32 \n",
            " 53  sky_cov_cld_d             293218 non-null  int32 \n",
            " 54  sky_sum_cov_d             293218 non-null  int32 \n",
            " 55  sky_sum_hgt_d             293218 non-null  int32 \n",
            " 56  sky_obs_tot_cov_d         293218 non-null  object\n",
            " 57  sky_low_cld_base_hgt_d    293218 non-null  int32 \n",
            " 58  at_pres_altimeter_rate_d  293218 non-null  int32 \n",
            " 59  at_pres_stn_rate_d        293218 non-null  int32 \n",
            " 60  Weather_Label             293218 non-null  int32 \n",
            "dtypes: int32(49), object(12)\n",
            "memory usage: 81.7+ MB\n"
          ]
        }
      ]
    },
    {
      "cell_type": "code",
      "source": [
        "## Script to transform dataset\n",
        "\n",
        "# List of flight-related columns.\n",
        "flight_cols = ['Year', 'Quarter', 'Month',\n",
        "                  'DayofMonth', 'DayOfWeek','OriginAirportSeqID',\n",
        "                  'DestAirportSeqID', 'Dest','DestStateFips',\n",
        "                  'CRSElapsedTime', 'Distance',\n",
        "                  'DistanceGroup']\n",
        "\n",
        "\n",
        "def combine_mfr(df):\n",
        "  X = df.copy()\n",
        "\n",
        "  # This function maps to a consolidated list of manufacturers return a new DF\n",
        "  X['mfr'] = df['mfr'].map({'MCDONNELL DOUGLAS':'MCDONNELL',\n",
        "                            'BOEING': 'BOEING',\n",
        "                            'MCDONNELL DOUGLAS AIRCRAFT CO': 'MCDONNELL',\n",
        "                            'AIRBUS': 'AIRBUS','AIRBUS INDUSTRIE': 'AIRBUS',\n",
        "                            'MCDONNELL DOUGLAS CORPORATION': 'MCDONNELL'\n",
        "                            })\n",
        "\n",
        "  return X\n",
        "\n",
        "\n",
        "# def combine_date_time(df):\n",
        "#   X = df.copy()\n",
        "#   X.rename(columns={'DayofMonth':'Day'},inplace=True)\n",
        "#   X['Date']=pd.to_datetime(X[['Year', 'Month', 'Day']])\n",
        "#   X.drop(['Month', 'Day','Quarter','DayOfWeek','Year'], axis=1,inplace=True)\n",
        "#   return X\n",
        "\n",
        "\n",
        "\n",
        "\n",
        "\n",
        "def clean_column_names(df):\n",
        "  # This cleans-up and renames the feature union's prefixes for each column\n",
        "  # it first drops the categorical Dest column (which was preserved from the cols_tfr)\n",
        "  X = df.copy()\n",
        "  X.drop('feat__Dest',axis=1,inplace=True)\n",
        "  ins_inc = 0\n",
        "  new_cols = []\n",
        "  cols_to_remove = []\n",
        "  for col in X.columns:\n",
        "      if '_99' in col:\n",
        "        cols_to_remove.append(col)\n",
        "      else:\n",
        "        new_col = re.sub('Ordinal__','',col)\n",
        "        new_col = re.sub('feat__','',new_col)\n",
        "        X.rename({col: new_col},inplace=True,axis=1)\n",
        "  X.drop(cols_to_remove,axis=1,inplace=True)\n",
        "\n",
        "  # this next line basically reorders the columns so that the df starts with flight cols\n",
        "  order_cols = flight_cols + [col for col in X.columns if col not in flight_cols]\n",
        "  return X[order_cols]\n",
        "\n",
        "\n",
        "# In order to leverage this for fit/transform we need to wrap into a Function Transformer\n",
        "mfr_consolidate = (FunctionTransformer(combine_mfr)\n",
        "                  .set_output(transform='pandas'))\n",
        "\n",
        "column_cleaner = (FunctionTransformer(clean_column_names)\n",
        "                  .set_output(transform='pandas'))\n",
        "\n",
        "# dt_combiner = (FunctionTransformer(combine_date_time)\n",
        "#               .set_output(transform='pandas'))\n",
        "\n",
        "\n",
        "\n",
        "\n",
        "# dtype_convert = (FunctionTransformer(clean_dtypes)\n",
        "#                   .set_output(transform='pandas'))\n",
        "\n",
        "# Destinations are encoded according to number\n",
        "\n",
        "# time_cols = ['Month', 'DayofMonth','Quarter','DayOfWeek','Year']\n",
        "# dt_tfr = ColumnTransformer(transformers=[('dt_convert',\n",
        "#                                           dt_combiner,\n",
        "#                                           time_cols)\n",
        "#                                          ],\n",
        "#                            remainder='drop',\n",
        "#                            verbose_feature_names_out=False)\n",
        "\n",
        "\n",
        "\n",
        "dest_tfr = ColumnTransformer(transformers=[('dests',\n",
        "                                            OrdinalEncoder(handle_unknown='use_encoded_value',unknown_value=999),\n",
        "                                             ['Dest']\n",
        "                                            )],\n",
        "                             remainder='drop',\n",
        "                             verbose_feature_names_out=False)\n",
        "\n",
        "#\n",
        "mfr_trf = ColumnTransformer(transformers=[('mfr',\n",
        "                                           Pipeline([('mfr_consolidate', mfr_consolidate),\n",
        "                                                     ('mfr_ohe',OneHotEncoder(sparse_output=False)\n",
        "                                                     )]),\n",
        "                                                    ['mfr']\n",
        "                                                    )],\n",
        "                             remainder='drop',\n",
        "                             verbose_feature_names_out=False).set_output(transform='pandas')\n",
        "\n",
        "\n",
        "# each column listed is passed to OneHotEncoding to be split into several cols\n",
        "cols_tfr = ColumnTransformer([('columns_encoded',\n",
        "                              OneHotEncoder(sparse_output=False),\n",
        "                              ['Reporting_Airline',\n",
        "                                'mfr',\n",
        "                              'engine_type',\n",
        "                                'w_type',\n",
        "                                'sky_c_det',\n",
        "                                'sky_cov',\n",
        "                                'sky_obs_tot_cov',\n",
        "                                'w_type_d',\n",
        "                                'sky_c_det_d',\n",
        "                                'sky_cov_d',\n",
        "                                'sky_obs_tot_cov_d']\n",
        "                                )],\n",
        "                remainder='passthrough',\n",
        "                verbose_feature_names_out=False).set_output(transform='pandas')\n",
        "\n",
        "\n",
        "# The column transformers need to be joined together to recreate the dataframe\n",
        "feat_union = FeatureUnion([\n",
        "                          #  ('dt_change', dt_tfr),\n",
        "                           ('Ordinal',dest_tfr),\n",
        "                           ('feat', cols_tfr)\n",
        "                           ]).set_output(transform='pandas')\n",
        "\n",
        "\n",
        "# the pipeline to complete above processing\n",
        "pipe = Pipeline([\n",
        "                 ('mfr_consolidate',mfr_consolidate),\n",
        "                 ('feature_union', feat_union),\n",
        "                 ('col_cleaner',column_cleaner)\n",
        "                ])\n"
      ],
      "metadata": {
        "id": "oqLD3_Hq413O",
        "colab": {
          "base_uri": "https://localhost:8080/"
        },
        "outputId": "ba24038c-56c0-4867-848f-557464e8a661"
      },
      "execution_count": null,
      "outputs": [
        {
          "output_type": "stream",
          "name": "stderr",
          "text": [
            "/usr/local/lib/python3.10/dist-packages/sklearn/preprocessing/_function_transformer.py:343: UserWarning: With transform=\"pandas\", `func` should return a DataFrame to follow the set_output API.\n",
            "  warnings.warn(\n"
          ]
        }
      ]
    },
    {
      "cell_type": "code",
      "source": [
        "new_X = pipe.fit_transform(X)"
      ],
      "metadata": {
        "id": "ThsfcERQAmF4"
      },
      "execution_count": null,
      "outputs": []
    },
    {
      "cell_type": "code",
      "source": [
        "new_X.shape"
      ],
      "metadata": {
        "colab": {
          "base_uri": "https://localhost:8080/"
        },
        "id": "zo22nTqka33c",
        "outputId": "25b341b4-6d69-404b-f6bc-bbe390e5ab11"
      },
      "execution_count": null,
      "outputs": [
        {
          "output_type": "execute_result",
          "data": {
            "text/plain": [
              "(293218, 116)"
            ]
          },
          "metadata": {},
          "execution_count": 29
        }
      ]
    },
    {
      "cell_type": "code",
      "source": [
        "X_test = pipe.transform(test)"
      ],
      "metadata": {
        "id": "fybZBaWNnSVu"
      },
      "execution_count": null,
      "outputs": []
    },
    {
      "cell_type": "code",
      "source": [
        "new_X.to_parquet('/content/drive/Shareddrives/STUDENT-Capstone SS23/BTS_data/OnTime_WithWeather/Full_Training_set.parquet')"
      ],
      "metadata": {
        "id": "TPVFJbnng5TN"
      },
      "execution_count": null,
      "outputs": []
    },
    {
      "cell_type": "code",
      "source": [
        "# confirm file can be read in\n",
        "df = pd.read_parquet('/content/drive/Shareddrives/STUDENT-Capstone SS23/BTS_data/OnTime_WithWeather/Training_set.parquet')"
      ],
      "metadata": {
        "id": "3ivjR9ddUQgH"
      },
      "execution_count": null,
      "outputs": []
    },
    {
      "cell_type": "code",
      "source": [
        "# Save off test set\n",
        "X_test.to_parquet('/content/drive/Shareddrives/STUDENT-Capstone SS23/BTS_data/OnTime_WithWeather/Test_set.parquet')"
      ],
      "metadata": {
        "id": "TDwEH6k-91gs"
      },
      "execution_count": null,
      "outputs": []
    },
    {
      "cell_type": "code",
      "source": [],
      "metadata": {
        "id": "VkeUHXWwY06w"
      },
      "execution_count": null,
      "outputs": []
    }
  ]
}