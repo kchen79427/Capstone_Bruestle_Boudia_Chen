{
  "nbformat": 4,
  "nbformat_minor": 0,
  "metadata": {
    "colab": {
      "provenance": [],
      "mount_file_id": "1t4V0Vw6Adk3NMszQ2_Oow_AG9AnQ_jba",
      "authorship_tag": "ABX9TyPXUsNbvF3peufwXykz6bKZ",
      "include_colab_link": true
    },
    "kernelspec": {
      "name": "python3",
      "display_name": "Python 3"
    },
    "language_info": {
      "name": "python"
    }
  },
  "cells": [
    {
      "cell_type": "markdown",
      "metadata": {
        "id": "view-in-github",
        "colab_type": "text"
      },
      "source": [
        "<a href=\"https://colab.research.google.com/github/kchen79427/Capstone_Bruestle_Boudia_Chen/blob/dave_branch/Weather_Boudia_LSTM.ipynb\" target=\"_parent\"><img src=\"https://colab.research.google.com/assets/colab-badge.svg\" alt=\"Open In Colab\"/></a>"
      ]
    },
    {
      "cell_type": "code",
      "source": [
        "!pip install pyspark"
      ],
      "metadata": {
        "colab": {
          "base_uri": "https://localhost:8080/"
        },
        "id": "O45q1VOulZIU",
        "outputId": "0094f648-60c9-4c36-a9c9-cc51253f193f"
      },
      "execution_count": 1,
      "outputs": [
        {
          "output_type": "stream",
          "name": "stdout",
          "text": [
            "Requirement already satisfied: pyspark in /usr/local/lib/python3.10/dist-packages (3.4.1)\n",
            "Requirement already satisfied: py4j==0.10.9.7 in /usr/local/lib/python3.10/dist-packages (from pyspark) (0.10.9.7)\n"
          ]
        }
      ]
    },
    {
      "cell_type": "code",
      "execution_count": 1,
      "metadata": {
        "id": "oD4a88GRk7Ko"
      },
      "outputs": [],
      "source": [
        "import tensorflow as tf\n",
        "from tensorflow.keras.layers import Dense, Activation, Dropout, Input, Reshape, Lambda, RepeatVector\n",
        "from tensorflow.keras.models import Model\n",
        "from tensorflow.keras.optimizers import Adam\n",
        "from tensorflow.keras.utils import to_categorical\n",
        "import pandas as pd\n",
        "from pyspark.sql import SparkSession\n",
        "from pyspark.sql.functions import col\n",
        "from pyspark.sql.functions import udf, expr, concat_ws\n",
        "from pyspark.sql.functions import to_timestamp\n",
        "from pyspark.sql.types import TimestampType\n",
        "import json\n",
        "from datetime import datetime"
      ]
    },
    {
      "cell_type": "code",
      "source": [
        "spark =  SparkSession.builder.master(\"local[*]\") \\\n",
        "  .appName('Takeoff') \\\n",
        "  .getOrCreate()"
      ],
      "metadata": {
        "id": "V59VRewMncbM"
      },
      "execution_count": 2,
      "outputs": []
    },
    {
      "cell_type": "code",
      "source": [
        "spark.conf.set(\"spark.sql.inMemoryColumnarStorage.compressed\", True)\n",
        "spark.conf.set(\"spark.sql.shuffle.partitions\",500)"
      ],
      "metadata": {
        "id": "prF-TKgQ28_2"
      },
      "execution_count": 3,
      "outputs": []
    },
    {
      "cell_type": "markdown",
      "source": [
        "# Helper Functions"
      ],
      "metadata": {
        "id": "A6WznUR5JydK"
      }
    },
    {
      "cell_type": "code",
      "source": [
        "# load json object for referencing filepaths\n",
        "files = json.load(open('drive/Shareddrives/STUDENT-Capstone SS23/files.json','r'))"
      ],
      "metadata": {
        "id": "VXsKv9NTk9iD"
      },
      "execution_count": 4,
      "outputs": []
    },
    {
      "cell_type": "code",
      "source": [
        "def createFlightDT(fdate, ftime):\n",
        "  # Creates a date-time timestamp\n",
        "  lst = [x for x in str(ftime)]\n",
        "  if len(lst) == 3:\n",
        "    lst.insert(0,'0')\n",
        "  lst.insert(2,':') # insert a column to delineate hour from min\n",
        "  fdt = fdate + ' ' + \"\".join(lst) + ':00'\n",
        "  return fdt"
      ],
      "metadata": {
        "id": "roCMgR9XmWro"
      },
      "execution_count": 5,
      "outputs": []
    },
    {
      "cell_type": "markdown",
      "source": [
        "# Load Weather Training Data"
      ],
      "metadata": {
        "id": "oE6zAXhHDsvs"
      }
    },
    {
      "cell_type": "code",
      "source": [
        "# Load Weather data from parquet into spark DataFrame\n",
        "weather = spark.read.parquet(files['Weather']['DFW_train'])"
      ],
      "metadata": {
        "id": "KdlB15WnoBN3"
      },
      "execution_count": 6,
      "outputs": []
    },
    {
      "cell_type": "code",
      "source": [
        "weather = weather.withColumn('WeatherDtTm1', to_timestamp('WeatherDtTm'))"
      ],
      "metadata": {
        "id": "6vYKCM_wqTaa"
      },
      "execution_count": null,
      "outputs": []
    },
    {
      "cell_type": "code",
      "source": [
        "# If getting DFW Weather Specifically\n",
        "weather.createOrReplaceTempView('weather')"
      ],
      "metadata": {
        "id": "aTfEMVd7opng"
      },
      "execution_count": 51,
      "outputs": []
    },
    {
      "cell_type": "code",
      "source": [
        "weather.columns"
      ],
      "metadata": {
        "colab": {
          "base_uri": "https://localhost:8080/"
        },
        "id": "viuxfXfBOf82",
        "outputId": "363f47e1-0105-4062-ca9a-fa7b004b032d"
      },
      "execution_count": 25,
      "outputs": [
        {
          "output_type": "execute_result",
          "data": {
            "text/plain": [
              "['Origin',\n",
              " 'FlightDate',\n",
              " 'CRSDepTime',\n",
              " 'OriginDtTm',\n",
              " 'WeatherDtTm',\n",
              " 'w_dir_angle',\n",
              " 'w_type',\n",
              " 'w_speed_rate',\n",
              " 'sky_c_hgt',\n",
              " 'sky_c_det',\n",
              " 'sky_c_cavok',\n",
              " 'vis_dist',\n",
              " 'vis_var',\n",
              " 'tmp_air',\n",
              " 'tmp_dew',\n",
              " 'sea_lvl_p',\n",
              " 'liq_precip_qty',\n",
              " 'liq_precip_dim',\n",
              " 'liq_precip_cond',\n",
              " 'sky_cov',\n",
              " 'sky_cov_base_hgt',\n",
              " 'sky_cov_cld',\n",
              " 'sky_sum_cov',\n",
              " 'sky_sum_hgt',\n",
              " 'sky_obs_tot_cov',\n",
              " 'sky_low_cld_base_hgt',\n",
              " 'at_pres_altimeter_rate',\n",
              " 'at_pres_stn_rate',\n",
              " '__index_level_0__']"
            ]
          },
          "metadata": {},
          "execution_count": 25
        }
      ]
    },
    {
      "cell_type": "code",
      "source": [
        "w = spark.sql(\"Select * FROM All_Weather WHERE DATE(WeatherDtTm) = '2014-08-21'\")"
      ],
      "metadata": {
        "id": "OYXDUm46kjYE"
      },
      "execution_count": 24,
      "outputs": []
    },
    {
      "cell_type": "code",
      "source": [
        "w.show(10)"
      ],
      "metadata": {
        "colab": {
          "base_uri": "https://localhost:8080/"
        },
        "id": "u8zW8gHIH3f2",
        "outputId": "a9f6ed70-b5f5-4c96-bf93-595eeebf184a"
      },
      "execution_count": 27,
      "outputs": [
        {
          "output_type": "stream",
          "name": "stdout",
          "text": [
            "+------------+-------------------+-----------+------+------------+---------+---------+-----------+--------+-------+-------+-------+---------+--------------+--------------+---------------+-------+----------------+-----------+-----------+-----------+---------------+--------------------+----------------------+----------------+-----------------+\n",
            "|airport_code|        WeatherDtTm|w_dir_angle|w_type|w_speed_rate|sky_c_hgt|sky_c_det|sky_c_cavok|vis_dist|vis_var|tmp_air|tmp_dew|sea_lvl_p|liq_precip_qty|liq_precip_dim|liq_precip_cond|sky_cov|sky_cov_base_hgt|sky_cov_cld|sky_sum_cov|sky_sum_hgt|sky_obs_tot_cov|sky_low_cld_base_hgt|at_pres_altimeter_rate|at_pres_stn_rate|__index_level_0__|\n",
            "+------------+-------------------+-----------+------+------------+---------+---------+-----------+--------+-------+-------+-------+---------+--------------+--------------+---------------+-------+----------------+-----------+-----------+-----------+---------------+--------------------+----------------------+----------------+-----------------+\n",
            "|         DFW|2014-08-21 00:00:00|        160|     N|          57|    99999|        9|          N|   16000|      9|    350|    183|    10106|            99|          9999|              9|     99|            2250|         99|          9|      99999|             04|                2250|                 99999|            9911|             8580|\n",
            "|         DFW|2014-08-21 00:53:00|        150|     N|          72|    22000|        9|          N|   16093|      N|    339|    183|    10108|            01|             0|              9|     02|            2134|         99|          1|       2134|             99|                2134|                 10119|            9902|             8581|\n",
            "|         DFW|2014-08-21 01:53:00|        140|     N|          67|    22000|        9|          N|   16093|      N|    333|    194|    10113|            01|             0|              9|     02|            7620|         99|          1|       7620|             99|                7620|                 10125|            9909|             8582|\n",
            "|         DFW|2014-08-21 02:53:00|        150|     N|          72|    22000|        9|          N|   16093|      N|    311|    211|    10125|            01|             0|              9|     00|           99999|         99|          0|      99999|             00|               99999|                 10135|            9919|             8583|\n",
            "|         DFW|2014-08-21 03:00:00|        150|     N|          72|    99999|        9|          N|   16000|      9|    311|    211|    10125|            99|          9999|              9|     99|           99999|         99|          9|      99999|             00|               99999|                 99999|            9928|             8584|\n",
            "|         DFW|2014-08-21 03:53:00|        160|     N|          67|    22000|        9|          N|   16093|      N|    300|    211|    10129|            01|             0|              9|     00|           99999|         99|          0|      99999|             00|               99999|                 10139|            9922|             8585|\n",
            "|         DFW|2014-08-21 04:53:00|        160|     N|          72|    22000|        9|          N|   16093|      N|    294|    211|    10132|            01|             0|              9|     00|           99999|         99|          0|      99999|             00|               99999|                 10142|            9925|             8586|\n",
            "|         DFW|2014-08-21 05:53:00|        170|     N|          67|    22000|        9|          N|   16093|      N|    289|    217|    10133|            01|             0|              9|     00|           99999|         99|          0|      99999|             00|               99999|                 10146|            9929|             8587|\n",
            "|         DFW|2014-08-21 05:59:00|        999|     9|        9999|    99999|        9|          9|  999999|      9|   9999|   9999|    99999|            24|             0|              9|     99|           99999|         99|          9|      99999|             99|               99999|                 99999|           99999|             8588|\n",
            "|         DFW|2014-08-21 06:00:00|        170|     N|          67|    99999|        9|          N|   16000|      9|    289|    217|    10133|            99|          9999|              9|     99|           99999|         99|          9|      99999|             00|               99999|                 99999|            9938|             8589|\n",
            "+------------+-------------------+-----------+------+------------+---------+---------+-----------+--------+-------+-------+-------+---------+--------------+--------------+---------------+-------+----------------+-----------+-----------+-----------+---------------+--------------------+----------------------+----------------+-----------------+\n",
            "only showing top 10 rows\n",
            "\n"
          ]
        }
      ]
    },
    {
      "cell_type": "markdown",
      "source": [
        "# Load Raw Flight Data"
      ],
      "metadata": {
        "id": "uf066-ZEK9YN"
      }
    },
    {
      "cell_type": "code",
      "source": [
        "spdf = spark.read.parquet(files['BTS']['DFW_train'])"
      ],
      "metadata": {
        "id": "zGkB5yIJo00s"
      },
      "execution_count": 8,
      "outputs": []
    },
    {
      "cell_type": "code",
      "source": [
        "# Create a Flight Date/Time Timestamp to be able to compare to the Weather Dataset\n",
        "func = udf(lambda d,t: createFlightDT(d,t))\n",
        "dfw = spdf.withColumn('Flight_DateTime', to_timestamp(func(spdf.FlightDate, spdf.CRSDepTime)))"
      ],
      "metadata": {
        "id": "_AwgIwgEGF4K"
      },
      "execution_count": 9,
      "outputs": []
    },
    {
      "cell_type": "code",
      "source": [
        "# Create a unique Flight ID for each flight for easy reference\n",
        "dfw = dfw.withColumn('Flight_Num', concat_ws('_',spdf.DOT_ID_Reporting_Airline,\n",
        "                                           spdf.Flight_Number_Reporting_Airline,\n",
        "                                           spdf.FlightDate))"
      ],
      "metadata": {
        "id": "OPq3C47j0Bok"
      },
      "execution_count": 10,
      "outputs": []
    },
    {
      "cell_type": "code",
      "source": [
        "dfw = dfw.withColumn('weather_wdw_start', col('Flight_DateTime') - expr('INTERVAL 45 MINUTES'))"
      ],
      "metadata": {
        "id": "kLSFDaKtAy3m"
      },
      "execution_count": 11,
      "outputs": []
    },
    {
      "cell_type": "code",
      "source": [
        "dfw.createOrReplaceTempView('Ontime')"
      ],
      "metadata": {
        "id": "acKfAsKZkbA4"
      },
      "execution_count": 12,
      "outputs": []
    },
    {
      "cell_type": "code",
      "source": [
        "dfw_t = spark.sql(\"\"\"SELECT * FROM Ontime\"\"\")\n",
        "dfw_t.write.parquet('drive/Shareddrives/STUDENT-Capstone SS23/DFW_training_window',mode='overwrite')"
      ],
      "metadata": {
        "id": "Wib6cJdspAQ4"
      },
      "execution_count": 14,
      "outputs": []
    },
    {
      "cell_type": "code",
      "source": [
        "dfw_t.createOrReplaceTempView('FData')"
      ],
      "metadata": {
        "id": "S6g5t84dgDKn"
      },
      "execution_count": 21,
      "outputs": []
    },
    {
      "cell_type": "markdown",
      "source": [
        "# Get Aircraft Data"
      ],
      "metadata": {
        "id": "6rfR0uaEfsZA"
      }
    },
    {
      "cell_type": "code",
      "source": [
        "aircraft = spark.read.csv(files['Aircraft'],header=True)"
      ],
      "metadata": {
        "id": "mYMeugy2fpDO"
      },
      "execution_count": 15,
      "outputs": []
    },
    {
      "cell_type": "code",
      "source": [
        "aircraft.show(1)"
      ],
      "metadata": {
        "colab": {
          "base_uri": "https://localhost:8080/"
        },
        "id": "Q4oFCULQgjVd",
        "outputId": "002d4a02-e48b-458b-e881-ca5a8b4cc772"
      },
      "execution_count": 46,
      "outputs": [
        {
          "output_type": "stream",
          "name": "stdout",
          "text": [
            "+---+-------+------+-------+--------------------+----------+----------+-----------+----------+-----------+\n",
            "|_c0|tail_no|   mfr|  model|                type|passengers|wght_class|engine_type|no_engines|tail_prefix|\n",
            "+---+-------+------+-------+--------------------+----------+----------+-----------+----------+-----------+\n",
            "|  0| N301DQ|BOEING|737-732|Fixed Wing (Multi...|     149.0|   CLASS 3|   Turbofan|       2.0|          N|\n",
            "+---+-------+------+-------+--------------------+----------+----------+-----------+----------+-----------+\n",
            "only showing top 1 row\n",
            "\n"
          ]
        }
      ]
    },
    {
      "cell_type": "code",
      "source": [
        "aircraft.createOrReplaceTempView('Aircraft')"
      ],
      "metadata": {
        "id": "1A5re0jaf4g3"
      },
      "execution_count": 16,
      "outputs": []
    },
    {
      "cell_type": "markdown",
      "source": [],
      "metadata": {
        "id": "YmvkuKs4l-tm"
      }
    },
    {
      "cell_type": "markdown",
      "source": [
        "# Create Input Data (Flight + Aircraft Join)"
      ],
      "metadata": {
        "id": "Up0-jbkU84uP"
      }
    },
    {
      "cell_type": "code",
      "source": [
        "final_flight = spark.sql(\"\"\"\n",
        "\n",
        "                         SELECT\n",
        "                          f.*\n",
        "                         FROM\n",
        "                          FData f INNER JOIN\n",
        "                          Aircraft a\n",
        "                          ON\n",
        "                          f.Tail_Number = a.tail_no\n",
        "                        WHERE\n",
        "                          a.passengers >= 100\n",
        "                         \"\"\"\n",
        ")"
      ],
      "metadata": {
        "id": "8-uqakNdfnkC"
      },
      "execution_count": 22,
      "outputs": []
    },
    {
      "cell_type": "code",
      "source": [
        "# Execute Query and write to parquet file\n",
        "final_flight.write.parquet('drive/Shareddrives/STUDENT-Capstone SS23/Final_Flight', mode='overwrite')"
      ],
      "metadata": {
        "id": "XyGx9EiMgb_b"
      },
      "execution_count": 25,
      "outputs": []
    },
    {
      "cell_type": "code",
      "source": [
        "# Load the file back in\n",
        "flight = spark.read.parquet('/content/drive/Shareddrives/STUDENT-Capstone SS23/Final_Flight/part-00000-4b1bea59-21e0-4a18-b0a6-c0f437da7b97-c000.snappy.parquet')"
      ],
      "metadata": {
        "id": "giqBXpochLdo"
      },
      "execution_count": 28,
      "outputs": []
    },
    {
      "cell_type": "code",
      "source": [
        "flight.createOrReplaceTempView('Flights')"
      ],
      "metadata": {
        "id": "zs6cPriphjxC"
      },
      "execution_count": 31,
      "outputs": []
    },
    {
      "cell_type": "code",
      "source": [],
      "metadata": {
        "id": "4f0zofo607ui"
      },
      "execution_count": null,
      "outputs": []
    },
    {
      "cell_type": "markdown",
      "source": [
        "# Combine Flight and Weather Data"
      ],
      "metadata": {
        "id": "Vs3AVQtE09PJ"
      }
    },
    {
      "cell_type": "code",
      "source": [
        "data = spark.sql(\"\"\"\n",
        "            Select\n",
        "              f.Flight_Num,\n",
        "              f.Flight_DateTime,\n",
        "              w.WeatherDtTm,\n",
        "              f.WeatherDelay,\n",
        "              w.w_dir_angle,\n",
        "              w.w_type,\n",
        "              w.w_speed_rate,\n",
        "              w.sky_c_hgt,\n",
        "              w.sky_c_det,\n",
        "              w.sky_c_cavok,\n",
        "              w.vis_dist,\n",
        "              w.vis_var,\n",
        "              w.tmp_air,\n",
        "              w.tmp_dew,\n",
        "              w.sea_lvl_p,\n",
        "              w.liq_precip_qty,\n",
        "              w.liq_precip_dim,\n",
        "              w.liq_precip_cond,\n",
        "              w.sky_cov,\n",
        "              w.sky_cov_base_hgt,\n",
        "              w.sky_cov_cld,\n",
        "              w.sky_sum_cov,\n",
        "              w.sky_sum_hgt,\n",
        "              w.sky_obs_tot_cov,\n",
        "              w.sky_low_cld_base_hgt,\n",
        "              w.at_pres_altimeter_rate,\n",
        "              w.at_pres_stn_rate\n",
        "            FROM\n",
        "              Flights f,\n",
        "              weather w\n",
        "            WHERE\n",
        "              w.WeatherDtTm1 Between f.weather_wdw_start AND  f.Flight_DateTime AND\n",
        "              f.DepTime <> ''\n",
        "              \"\"\"\n",
        ")\n",
        "\n"
      ],
      "metadata": {
        "id": "ccgbPO4Rdvzi"
      },
      "execution_count": 70,
      "outputs": []
    },
    {
      "cell_type": "code",
      "source": [
        "data.write.parquet('/content/drive/Shareddrives/STUDENT-Capstone SS23/Model_Data', mode='overwrite')"
      ],
      "metadata": {
        "id": "X-JF834yAH5y"
      },
      "execution_count": null,
      "outputs": []
    },
    {
      "cell_type": "code",
      "source": [
        "df = data.toPandas()"
      ],
      "metadata": {
        "colab": {
          "base_uri": "https://localhost:8080/"
        },
        "id": "_FXXiP-sv8sI",
        "outputId": "dfd12054-ebc3-4bfa-8057-5c056e94e3fd"
      },
      "execution_count": 58,
      "outputs": [
        {
          "output_type": "stream",
          "name": "stderr",
          "text": [
            "/usr/local/lib/python3.10/dist-packages/pyspark/sql/pandas/conversion.py:251: FutureWarning: Passing unit-less datetime64 dtype to .astype is deprecated and will raise in a future version. Pass 'datetime64[ns]' instead\n",
            "  series = series.astype(t, copy=False)\n",
            "/usr/local/lib/python3.10/dist-packages/pyspark/sql/pandas/conversion.py:251: FutureWarning: Passing unit-less datetime64 dtype to .astype is deprecated and will raise in a future version. Pass 'datetime64[ns]' instead\n",
            "  series = series.astype(t, copy=False)\n"
          ]
        }
      ]
    },
    {
      "cell_type": "code",
      "source": [
        "df.sort_values('WeatherDtTm').head(100)"
      ],
      "metadata": {
        "colab": {
          "base_uri": "https://localhost:8080/",
          "height": 661
        },
        "id": "3OJXYVYQwFT6",
        "outputId": "a9379280-31fe-4f01-8e41-e3de61e57127"
      },
      "execution_count": 69,
      "outputs": [
        {
          "output_type": "execute_result",
          "data": {
            "text/plain": [
              "                Flight_Num     Flight_DateTime         WeatherDtTm  \\\n",
              "0    19805_1322_2010-01-01 2010-01-01 06:40:00 2010-01-01 05:59:00   \n",
              "1    19805_1322_2010-01-01 2010-01-01 06:40:00 2010-01-01 06:00:00   \n",
              "2    19805_1776_2010-01-01 2010-01-01 06:45:00 2010-01-01 06:00:00   \n",
              "3     19805_704_2010-01-01 2010-01-01 07:15:00 2010-01-01 06:53:00   \n",
              "4    19805_1143_2010-01-01 2010-01-01 08:30:00 2010-01-01 07:53:00   \n",
              "..                     ...                 ...                 ...   \n",
              "87    19805_629_2010-01-01 2010-01-01 18:30:00 2010-01-01 17:53:00   \n",
              "86    19805_440_2010-01-01 2010-01-01 18:00:00 2010-01-01 17:53:00   \n",
              "91   19805_1286_2010-01-01 2010-01-01 18:30:00 2010-01-01 17:53:00   \n",
              "107  19805_2368_2010-01-01 2010-01-01 18:10:00 2010-01-01 18:00:00   \n",
              "109   19930_663_2010-01-01 2010-01-01 18:45:00 2010-01-01 18:00:00   \n",
              "\n",
              "     WeatherDelay  w_dir_angle w_type  w_speed_rate  sky_c_hgt sky_c_det  \\\n",
              "0             0.0          999      9          9999      99999         9   \n",
              "1             0.0          340      N            62      22000         9   \n",
              "2             NaN          340      N            62      22000         9   \n",
              "3             NaN          340      N            57      22000         9   \n",
              "4             0.0          340      N            36      22000         9   \n",
              "..            ...          ...    ...           ...        ...       ...   \n",
              "87            NaN          999      V            15      22000         9   \n",
              "86            NaN          999      V            15      22000         9   \n",
              "91            NaN          999      V            15      22000         9   \n",
              "107           NaN          999      9          9999      22000         9   \n",
              "109           NaN          999      9          9999      22000         9   \n",
              "\n",
              "    sky_c_cavok  ...  liq_precip_cond sky_cov  sky_cov_base_hgt  sky_cov_cld  \\\n",
              "0             9  ...                9      99             99999           99   \n",
              "1             N  ...                2      00             99999           99   \n",
              "2             N  ...                2      00             99999           99   \n",
              "3             N  ...                9      99             99999           99   \n",
              "4             N  ...                9      99             99999           99   \n",
              "..          ...  ...              ...     ...               ...          ...   \n",
              "87            N  ...                9      99             99999           99   \n",
              "86            N  ...                9      99             99999           99   \n",
              "91            N  ...                9      99             99999           99   \n",
              "107           N  ...                9      00             99999           99   \n",
              "109           N  ...                9      00             99999           99   \n",
              "\n",
              "     sky_sum_cov sky_sum_hgt  sky_obs_tot_cov  sky_low_cld_base_hgt  \\\n",
              "0              9       99999               99                 99999   \n",
              "1              9       99999               00                 99999   \n",
              "2              9       99999               00                 99999   \n",
              "3              9       99999               00                 99999   \n",
              "4              9       99999               00                 99999   \n",
              "..           ...         ...              ...                   ...   \n",
              "87             9       99999               00                 99999   \n",
              "86             9       99999               00                 99999   \n",
              "91             9       99999               00                 99999   \n",
              "107            9       99999               00                 99999   \n",
              "109            9       99999               00                 99999   \n",
              "\n",
              "    at_pres_altimeter_rate  at_pres_stn_rate  \n",
              "0                    99999             99999  \n",
              "1                    99999             10094  \n",
              "2                    99999             10094  \n",
              "3                    10305             10085  \n",
              "4                    10308             10088  \n",
              "..                     ...               ...  \n",
              "87                   10315             10095  \n",
              "86                   10315             10095  \n",
              "91                   10315             10095  \n",
              "107                  99999             10104  \n",
              "109                  99999             10104  \n",
              "\n",
              "[100 rows x 27 columns]"
            ],
            "text/html": [
              "\n",
              "  <div id=\"df-7957f313-0c96-4e2e-b0f3-36148204e4fd\">\n",
              "    <div class=\"colab-df-container\">\n",
              "      <div>\n",
              "<style scoped>\n",
              "    .dataframe tbody tr th:only-of-type {\n",
              "        vertical-align: middle;\n",
              "    }\n",
              "\n",
              "    .dataframe tbody tr th {\n",
              "        vertical-align: top;\n",
              "    }\n",
              "\n",
              "    .dataframe thead th {\n",
              "        text-align: right;\n",
              "    }\n",
              "</style>\n",
              "<table border=\"1\" class=\"dataframe\">\n",
              "  <thead>\n",
              "    <tr style=\"text-align: right;\">\n",
              "      <th></th>\n",
              "      <th>Flight_Num</th>\n",
              "      <th>Flight_DateTime</th>\n",
              "      <th>WeatherDtTm</th>\n",
              "      <th>WeatherDelay</th>\n",
              "      <th>w_dir_angle</th>\n",
              "      <th>w_type</th>\n",
              "      <th>w_speed_rate</th>\n",
              "      <th>sky_c_hgt</th>\n",
              "      <th>sky_c_det</th>\n",
              "      <th>sky_c_cavok</th>\n",
              "      <th>...</th>\n",
              "      <th>liq_precip_cond</th>\n",
              "      <th>sky_cov</th>\n",
              "      <th>sky_cov_base_hgt</th>\n",
              "      <th>sky_cov_cld</th>\n",
              "      <th>sky_sum_cov</th>\n",
              "      <th>sky_sum_hgt</th>\n",
              "      <th>sky_obs_tot_cov</th>\n",
              "      <th>sky_low_cld_base_hgt</th>\n",
              "      <th>at_pres_altimeter_rate</th>\n",
              "      <th>at_pres_stn_rate</th>\n",
              "    </tr>\n",
              "  </thead>\n",
              "  <tbody>\n",
              "    <tr>\n",
              "      <th>0</th>\n",
              "      <td>19805_1322_2010-01-01</td>\n",
              "      <td>2010-01-01 06:40:00</td>\n",
              "      <td>2010-01-01 05:59:00</td>\n",
              "      <td>0.0</td>\n",
              "      <td>999</td>\n",
              "      <td>9</td>\n",
              "      <td>9999</td>\n",
              "      <td>99999</td>\n",
              "      <td>9</td>\n",
              "      <td>9</td>\n",
              "      <td>...</td>\n",
              "      <td>9</td>\n",
              "      <td>99</td>\n",
              "      <td>99999</td>\n",
              "      <td>99</td>\n",
              "      <td>9</td>\n",
              "      <td>99999</td>\n",
              "      <td>99</td>\n",
              "      <td>99999</td>\n",
              "      <td>99999</td>\n",
              "      <td>99999</td>\n",
              "    </tr>\n",
              "    <tr>\n",
              "      <th>1</th>\n",
              "      <td>19805_1322_2010-01-01</td>\n",
              "      <td>2010-01-01 06:40:00</td>\n",
              "      <td>2010-01-01 06:00:00</td>\n",
              "      <td>0.0</td>\n",
              "      <td>340</td>\n",
              "      <td>N</td>\n",
              "      <td>62</td>\n",
              "      <td>22000</td>\n",
              "      <td>9</td>\n",
              "      <td>N</td>\n",
              "      <td>...</td>\n",
              "      <td>2</td>\n",
              "      <td>00</td>\n",
              "      <td>99999</td>\n",
              "      <td>99</td>\n",
              "      <td>9</td>\n",
              "      <td>99999</td>\n",
              "      <td>00</td>\n",
              "      <td>99999</td>\n",
              "      <td>99999</td>\n",
              "      <td>10094</td>\n",
              "    </tr>\n",
              "    <tr>\n",
              "      <th>2</th>\n",
              "      <td>19805_1776_2010-01-01</td>\n",
              "      <td>2010-01-01 06:45:00</td>\n",
              "      <td>2010-01-01 06:00:00</td>\n",
              "      <td>NaN</td>\n",
              "      <td>340</td>\n",
              "      <td>N</td>\n",
              "      <td>62</td>\n",
              "      <td>22000</td>\n",
              "      <td>9</td>\n",
              "      <td>N</td>\n",
              "      <td>...</td>\n",
              "      <td>2</td>\n",
              "      <td>00</td>\n",
              "      <td>99999</td>\n",
              "      <td>99</td>\n",
              "      <td>9</td>\n",
              "      <td>99999</td>\n",
              "      <td>00</td>\n",
              "      <td>99999</td>\n",
              "      <td>99999</td>\n",
              "      <td>10094</td>\n",
              "    </tr>\n",
              "    <tr>\n",
              "      <th>3</th>\n",
              "      <td>19805_704_2010-01-01</td>\n",
              "      <td>2010-01-01 07:15:00</td>\n",
              "      <td>2010-01-01 06:53:00</td>\n",
              "      <td>NaN</td>\n",
              "      <td>340</td>\n",
              "      <td>N</td>\n",
              "      <td>57</td>\n",
              "      <td>22000</td>\n",
              "      <td>9</td>\n",
              "      <td>N</td>\n",
              "      <td>...</td>\n",
              "      <td>9</td>\n",
              "      <td>99</td>\n",
              "      <td>99999</td>\n",
              "      <td>99</td>\n",
              "      <td>9</td>\n",
              "      <td>99999</td>\n",
              "      <td>00</td>\n",
              "      <td>99999</td>\n",
              "      <td>10305</td>\n",
              "      <td>10085</td>\n",
              "    </tr>\n",
              "    <tr>\n",
              "      <th>4</th>\n",
              "      <td>19805_1143_2010-01-01</td>\n",
              "      <td>2010-01-01 08:30:00</td>\n",
              "      <td>2010-01-01 07:53:00</td>\n",
              "      <td>0.0</td>\n",
              "      <td>340</td>\n",
              "      <td>N</td>\n",
              "      <td>36</td>\n",
              "      <td>22000</td>\n",
              "      <td>9</td>\n",
              "      <td>N</td>\n",
              "      <td>...</td>\n",
              "      <td>9</td>\n",
              "      <td>99</td>\n",
              "      <td>99999</td>\n",
              "      <td>99</td>\n",
              "      <td>9</td>\n",
              "      <td>99999</td>\n",
              "      <td>00</td>\n",
              "      <td>99999</td>\n",
              "      <td>10308</td>\n",
              "      <td>10088</td>\n",
              "    </tr>\n",
              "    <tr>\n",
              "      <th>...</th>\n",
              "      <td>...</td>\n",
              "      <td>...</td>\n",
              "      <td>...</td>\n",
              "      <td>...</td>\n",
              "      <td>...</td>\n",
              "      <td>...</td>\n",
              "      <td>...</td>\n",
              "      <td>...</td>\n",
              "      <td>...</td>\n",
              "      <td>...</td>\n",
              "      <td>...</td>\n",
              "      <td>...</td>\n",
              "      <td>...</td>\n",
              "      <td>...</td>\n",
              "      <td>...</td>\n",
              "      <td>...</td>\n",
              "      <td>...</td>\n",
              "      <td>...</td>\n",
              "      <td>...</td>\n",
              "      <td>...</td>\n",
              "      <td>...</td>\n",
              "    </tr>\n",
              "    <tr>\n",
              "      <th>87</th>\n",
              "      <td>19805_629_2010-01-01</td>\n",
              "      <td>2010-01-01 18:30:00</td>\n",
              "      <td>2010-01-01 17:53:00</td>\n",
              "      <td>NaN</td>\n",
              "      <td>999</td>\n",
              "      <td>V</td>\n",
              "      <td>15</td>\n",
              "      <td>22000</td>\n",
              "      <td>9</td>\n",
              "      <td>N</td>\n",
              "      <td>...</td>\n",
              "      <td>9</td>\n",
              "      <td>99</td>\n",
              "      <td>99999</td>\n",
              "      <td>99</td>\n",
              "      <td>9</td>\n",
              "      <td>99999</td>\n",
              "      <td>00</td>\n",
              "      <td>99999</td>\n",
              "      <td>10315</td>\n",
              "      <td>10095</td>\n",
              "    </tr>\n",
              "    <tr>\n",
              "      <th>86</th>\n",
              "      <td>19805_440_2010-01-01</td>\n",
              "      <td>2010-01-01 18:00:00</td>\n",
              "      <td>2010-01-01 17:53:00</td>\n",
              "      <td>NaN</td>\n",
              "      <td>999</td>\n",
              "      <td>V</td>\n",
              "      <td>15</td>\n",
              "      <td>22000</td>\n",
              "      <td>9</td>\n",
              "      <td>N</td>\n",
              "      <td>...</td>\n",
              "      <td>9</td>\n",
              "      <td>99</td>\n",
              "      <td>99999</td>\n",
              "      <td>99</td>\n",
              "      <td>9</td>\n",
              "      <td>99999</td>\n",
              "      <td>00</td>\n",
              "      <td>99999</td>\n",
              "      <td>10315</td>\n",
              "      <td>10095</td>\n",
              "    </tr>\n",
              "    <tr>\n",
              "      <th>91</th>\n",
              "      <td>19805_1286_2010-01-01</td>\n",
              "      <td>2010-01-01 18:30:00</td>\n",
              "      <td>2010-01-01 17:53:00</td>\n",
              "      <td>NaN</td>\n",
              "      <td>999</td>\n",
              "      <td>V</td>\n",
              "      <td>15</td>\n",
              "      <td>22000</td>\n",
              "      <td>9</td>\n",
              "      <td>N</td>\n",
              "      <td>...</td>\n",
              "      <td>9</td>\n",
              "      <td>99</td>\n",
              "      <td>99999</td>\n",
              "      <td>99</td>\n",
              "      <td>9</td>\n",
              "      <td>99999</td>\n",
              "      <td>00</td>\n",
              "      <td>99999</td>\n",
              "      <td>10315</td>\n",
              "      <td>10095</td>\n",
              "    </tr>\n",
              "    <tr>\n",
              "      <th>107</th>\n",
              "      <td>19805_2368_2010-01-01</td>\n",
              "      <td>2010-01-01 18:10:00</td>\n",
              "      <td>2010-01-01 18:00:00</td>\n",
              "      <td>NaN</td>\n",
              "      <td>999</td>\n",
              "      <td>9</td>\n",
              "      <td>9999</td>\n",
              "      <td>22000</td>\n",
              "      <td>9</td>\n",
              "      <td>N</td>\n",
              "      <td>...</td>\n",
              "      <td>9</td>\n",
              "      <td>00</td>\n",
              "      <td>99999</td>\n",
              "      <td>99</td>\n",
              "      <td>9</td>\n",
              "      <td>99999</td>\n",
              "      <td>00</td>\n",
              "      <td>99999</td>\n",
              "      <td>99999</td>\n",
              "      <td>10104</td>\n",
              "    </tr>\n",
              "    <tr>\n",
              "      <th>109</th>\n",
              "      <td>19930_663_2010-01-01</td>\n",
              "      <td>2010-01-01 18:45:00</td>\n",
              "      <td>2010-01-01 18:00:00</td>\n",
              "      <td>NaN</td>\n",
              "      <td>999</td>\n",
              "      <td>9</td>\n",
              "      <td>9999</td>\n",
              "      <td>22000</td>\n",
              "      <td>9</td>\n",
              "      <td>N</td>\n",
              "      <td>...</td>\n",
              "      <td>9</td>\n",
              "      <td>00</td>\n",
              "      <td>99999</td>\n",
              "      <td>99</td>\n",
              "      <td>9</td>\n",
              "      <td>99999</td>\n",
              "      <td>00</td>\n",
              "      <td>99999</td>\n",
              "      <td>99999</td>\n",
              "      <td>10104</td>\n",
              "    </tr>\n",
              "  </tbody>\n",
              "</table>\n",
              "<p>100 rows × 27 columns</p>\n",
              "</div>\n",
              "      <button class=\"colab-df-convert\" onclick=\"convertToInteractive('df-7957f313-0c96-4e2e-b0f3-36148204e4fd')\"\n",
              "              title=\"Convert this dataframe to an interactive table.\"\n",
              "              style=\"display:none;\">\n",
              "        \n",
              "  <svg xmlns=\"http://www.w3.org/2000/svg\" height=\"24px\"viewBox=\"0 0 24 24\"\n",
              "       width=\"24px\">\n",
              "    <path d=\"M0 0h24v24H0V0z\" fill=\"none\"/>\n",
              "    <path d=\"M18.56 5.44l.94 2.06.94-2.06 2.06-.94-2.06-.94-.94-2.06-.94 2.06-2.06.94zm-11 1L8.5 8.5l.94-2.06 2.06-.94-2.06-.94L8.5 2.5l-.94 2.06-2.06.94zm10 10l.94 2.06.94-2.06 2.06-.94-2.06-.94-.94-2.06-.94 2.06-2.06.94z\"/><path d=\"M17.41 7.96l-1.37-1.37c-.4-.4-.92-.59-1.43-.59-.52 0-1.04.2-1.43.59L10.3 9.45l-7.72 7.72c-.78.78-.78 2.05 0 2.83L4 21.41c.39.39.9.59 1.41.59.51 0 1.02-.2 1.41-.59l7.78-7.78 2.81-2.81c.8-.78.8-2.07 0-2.86zM5.41 20L4 18.59l7.72-7.72 1.47 1.35L5.41 20z\"/>\n",
              "  </svg>\n",
              "      </button>\n",
              "      \n",
              "  <style>\n",
              "    .colab-df-container {\n",
              "      display:flex;\n",
              "      flex-wrap:wrap;\n",
              "      gap: 12px;\n",
              "    }\n",
              "\n",
              "    .colab-df-convert {\n",
              "      background-color: #E8F0FE;\n",
              "      border: none;\n",
              "      border-radius: 50%;\n",
              "      cursor: pointer;\n",
              "      display: none;\n",
              "      fill: #1967D2;\n",
              "      height: 32px;\n",
              "      padding: 0 0 0 0;\n",
              "      width: 32px;\n",
              "    }\n",
              "\n",
              "    .colab-df-convert:hover {\n",
              "      background-color: #E2EBFA;\n",
              "      box-shadow: 0px 1px 2px rgba(60, 64, 67, 0.3), 0px 1px 3px 1px rgba(60, 64, 67, 0.15);\n",
              "      fill: #174EA6;\n",
              "    }\n",
              "\n",
              "    [theme=dark] .colab-df-convert {\n",
              "      background-color: #3B4455;\n",
              "      fill: #D2E3FC;\n",
              "    }\n",
              "\n",
              "    [theme=dark] .colab-df-convert:hover {\n",
              "      background-color: #434B5C;\n",
              "      box-shadow: 0px 1px 3px 1px rgba(0, 0, 0, 0.15);\n",
              "      filter: drop-shadow(0px 1px 2px rgba(0, 0, 0, 0.3));\n",
              "      fill: #FFFFFF;\n",
              "    }\n",
              "  </style>\n",
              "\n",
              "      <script>\n",
              "        const buttonEl =\n",
              "          document.querySelector('#df-7957f313-0c96-4e2e-b0f3-36148204e4fd button.colab-df-convert');\n",
              "        buttonEl.style.display =\n",
              "          google.colab.kernel.accessAllowed ? 'block' : 'none';\n",
              "\n",
              "        async function convertToInteractive(key) {\n",
              "          const element = document.querySelector('#df-7957f313-0c96-4e2e-b0f3-36148204e4fd');\n",
              "          const dataTable =\n",
              "            await google.colab.kernel.invokeFunction('convertToInteractive',\n",
              "                                                     [key], {});\n",
              "          if (!dataTable) return;\n",
              "\n",
              "          const docLinkHtml = 'Like what you see? Visit the ' +\n",
              "            '<a target=\"_blank\" href=https://colab.research.google.com/notebooks/data_table.ipynb>data table notebook</a>'\n",
              "            + ' to learn more about interactive tables.';\n",
              "          element.innerHTML = '';\n",
              "          dataTable['output_type'] = 'display_data';\n",
              "          await google.colab.output.renderOutput(dataTable, element);\n",
              "          const docLink = document.createElement('div');\n",
              "          docLink.innerHTML = docLinkHtml;\n",
              "          element.appendChild(docLink);\n",
              "        }\n",
              "      </script>\n",
              "    </div>\n",
              "  </div>\n",
              "  "
            ]
          },
          "metadata": {},
          "execution_count": 69
        }
      ]
    },
    {
      "cell_type": "code",
      "source": [],
      "metadata": {
        "id": "6-fppRyg1J3e"
      },
      "execution_count": null,
      "outputs": []
    },
    {
      "cell_type": "markdown",
      "source": [
        "Below cell is what I'm using to Create the Rank of timestamps once the weather data has been incorporated."
      ],
      "metadata": {
        "id": "ntFKhB3B1KND"
      }
    },
    {
      "cell_type": "code",
      "source": [
        "ts = spark.sql(\"\"\"\n",
        "\n",
        "          SELECT\n",
        "            *,\n",
        "            Dense_Rank() OVER(PARTITION BY Flight_Num ORDER BY WeatherDtTm ASC,__index_level_0__) Time_Sequence\n",
        "          FROM\n",
        "            All_Data\n",
        "          \"\"\")"
      ],
      "metadata": {
        "colab": {
          "base_uri": "https://localhost:8080/",
          "height": 1000
        },
        "id": "1_G0e4nFS99h",
        "outputId": "1da6cc74-bac0-4ec7-d270-708a40c92201"
      },
      "execution_count": 42,
      "outputs": [
        {
          "output_type": "error",
          "ename": "AnalysisException",
          "evalue": "ignored",
          "traceback": [
            "\u001b[0;31m---------------------------------------------------------------------------\u001b[0m",
            "\u001b[0;31mAnalysisException\u001b[0m                         Traceback (most recent call last)",
            "\u001b[0;32m<ipython-input-42-b7ddbde73938>\u001b[0m in \u001b[0;36m<cell line: 1>\u001b[0;34m()\u001b[0m\n\u001b[0;32m----> 1\u001b[0;31m ts = spark.sql(\"\"\"\n\u001b[0m\u001b[1;32m      2\u001b[0m \u001b[0;34m\u001b[0m\u001b[0m\n\u001b[1;32m      3\u001b[0m           \u001b[0mSELECT\u001b[0m\u001b[0;34m\u001b[0m\u001b[0;34m\u001b[0m\u001b[0m\n\u001b[1;32m      4\u001b[0m             \u001b[0;34m*\u001b[0m\u001b[0;34m,\u001b[0m\u001b[0;34m\u001b[0m\u001b[0;34m\u001b[0m\u001b[0m\n\u001b[1;32m      5\u001b[0m             \u001b[0mDense_Rank\u001b[0m\u001b[0;34m(\u001b[0m\u001b[0;34m)\u001b[0m \u001b[0mOVER\u001b[0m\u001b[0;34m(\u001b[0m\u001b[0mPARTITION\u001b[0m \u001b[0mBY\u001b[0m \u001b[0mFlight_Num\u001b[0m \u001b[0mORDER\u001b[0m \u001b[0mBY\u001b[0m \u001b[0mWeatherDtTm\u001b[0m \u001b[0mASC\u001b[0m\u001b[0;34m,\u001b[0m\u001b[0m__index_level_0__\u001b[0m\u001b[0;34m)\u001b[0m \u001b[0mTime_Sequence\u001b[0m\u001b[0;34m\u001b[0m\u001b[0;34m\u001b[0m\u001b[0m\n",
            "\u001b[0;32m/usr/local/lib/python3.10/dist-packages/pyspark/sql/session.py\u001b[0m in \u001b[0;36msql\u001b[0;34m(self, sqlQuery, args, **kwargs)\u001b[0m\n\u001b[1;32m   1438\u001b[0m         \u001b[0;32mtry\u001b[0m\u001b[0;34m:\u001b[0m\u001b[0;34m\u001b[0m\u001b[0;34m\u001b[0m\u001b[0m\n\u001b[1;32m   1439\u001b[0m             \u001b[0mlitArgs\u001b[0m \u001b[0;34m=\u001b[0m \u001b[0;34m{\u001b[0m\u001b[0mk\u001b[0m\u001b[0;34m:\u001b[0m \u001b[0m_to_java_column\u001b[0m\u001b[0;34m(\u001b[0m\u001b[0mlit\u001b[0m\u001b[0;34m(\u001b[0m\u001b[0mv\u001b[0m\u001b[0;34m)\u001b[0m\u001b[0;34m)\u001b[0m \u001b[0;32mfor\u001b[0m \u001b[0mk\u001b[0m\u001b[0;34m,\u001b[0m \u001b[0mv\u001b[0m \u001b[0;32min\u001b[0m \u001b[0;34m(\u001b[0m\u001b[0margs\u001b[0m \u001b[0;32mor\u001b[0m \u001b[0;34m{\u001b[0m\u001b[0;34m}\u001b[0m\u001b[0;34m)\u001b[0m\u001b[0;34m.\u001b[0m\u001b[0mitems\u001b[0m\u001b[0;34m(\u001b[0m\u001b[0;34m)\u001b[0m\u001b[0;34m}\u001b[0m\u001b[0;34m\u001b[0m\u001b[0;34m\u001b[0m\u001b[0m\n\u001b[0;32m-> 1440\u001b[0;31m             \u001b[0;32mreturn\u001b[0m \u001b[0mDataFrame\u001b[0m\u001b[0;34m(\u001b[0m\u001b[0mself\u001b[0m\u001b[0;34m.\u001b[0m\u001b[0m_jsparkSession\u001b[0m\u001b[0;34m.\u001b[0m\u001b[0msql\u001b[0m\u001b[0;34m(\u001b[0m\u001b[0msqlQuery\u001b[0m\u001b[0;34m,\u001b[0m \u001b[0mlitArgs\u001b[0m\u001b[0;34m)\u001b[0m\u001b[0;34m,\u001b[0m \u001b[0mself\u001b[0m\u001b[0;34m)\u001b[0m\u001b[0;34m\u001b[0m\u001b[0;34m\u001b[0m\u001b[0m\n\u001b[0m\u001b[1;32m   1441\u001b[0m         \u001b[0;32mfinally\u001b[0m\u001b[0;34m:\u001b[0m\u001b[0;34m\u001b[0m\u001b[0;34m\u001b[0m\u001b[0m\n\u001b[1;32m   1442\u001b[0m             \u001b[0;32mif\u001b[0m \u001b[0mlen\u001b[0m\u001b[0;34m(\u001b[0m\u001b[0mkwargs\u001b[0m\u001b[0;34m)\u001b[0m \u001b[0;34m>\u001b[0m \u001b[0;36m0\u001b[0m\u001b[0;34m:\u001b[0m\u001b[0;34m\u001b[0m\u001b[0;34m\u001b[0m\u001b[0m\n",
            "\u001b[0;32m/usr/local/lib/python3.10/dist-packages/py4j/java_gateway.py\u001b[0m in \u001b[0;36m__call__\u001b[0;34m(self, *args)\u001b[0m\n\u001b[1;32m   1320\u001b[0m \u001b[0;34m\u001b[0m\u001b[0m\n\u001b[1;32m   1321\u001b[0m         \u001b[0manswer\u001b[0m \u001b[0;34m=\u001b[0m \u001b[0mself\u001b[0m\u001b[0;34m.\u001b[0m\u001b[0mgateway_client\u001b[0m\u001b[0;34m.\u001b[0m\u001b[0msend_command\u001b[0m\u001b[0;34m(\u001b[0m\u001b[0mcommand\u001b[0m\u001b[0;34m)\u001b[0m\u001b[0;34m\u001b[0m\u001b[0;34m\u001b[0m\u001b[0m\n\u001b[0;32m-> 1322\u001b[0;31m         return_value = get_return_value(\n\u001b[0m\u001b[1;32m   1323\u001b[0m             answer, self.gateway_client, self.target_id, self.name)\n\u001b[1;32m   1324\u001b[0m \u001b[0;34m\u001b[0m\u001b[0m\n",
            "\u001b[0;32m/usr/local/lib/python3.10/dist-packages/pyspark/errors/exceptions/captured.py\u001b[0m in \u001b[0;36mdeco\u001b[0;34m(*a, **kw)\u001b[0m\n\u001b[1;32m    173\u001b[0m                 \u001b[0;31m# Hide where the exception came from that shows a non-Pythonic\u001b[0m\u001b[0;34m\u001b[0m\u001b[0;34m\u001b[0m\u001b[0m\n\u001b[1;32m    174\u001b[0m                 \u001b[0;31m# JVM exception message.\u001b[0m\u001b[0;34m\u001b[0m\u001b[0;34m\u001b[0m\u001b[0m\n\u001b[0;32m--> 175\u001b[0;31m                 \u001b[0;32mraise\u001b[0m \u001b[0mconverted\u001b[0m \u001b[0;32mfrom\u001b[0m \u001b[0;32mNone\u001b[0m\u001b[0;34m\u001b[0m\u001b[0;34m\u001b[0m\u001b[0m\n\u001b[0m\u001b[1;32m    176\u001b[0m             \u001b[0;32melse\u001b[0m\u001b[0;34m:\u001b[0m\u001b[0;34m\u001b[0m\u001b[0;34m\u001b[0m\u001b[0m\n\u001b[1;32m    177\u001b[0m                 \u001b[0;32mraise\u001b[0m\u001b[0;34m\u001b[0m\u001b[0;34m\u001b[0m\u001b[0m\n",
            "\u001b[0;31mAnalysisException\u001b[0m: [UNRESOLVED_COLUMN.WITH_SUGGESTION] A column or function parameter with name `__index_level_0__` cannot be resolved. Did you mean one of the following? [`all_data`.`sea_lvl_p`, `all_data`.`vis_var`, `all_data`.`T_x`, `all_data`.`sky_cov`, `all_data`.`tmp_air`].; line 5 pos 79;\n'Project [Flight_Num#192, Flight_DateTime#246, WeatherDtTm#4, WeatherDelay#125, w_dir_angle#5L, w_type#6, w_speed_rate#7L, sky_c_hgt#8L, sky_c_det#9, sky_c_cavok#10, vis_dist#11L, vis_var#12, tmp_air#13L, tmp_dew#14L, sea_lvl_p#15L, liq_precip_qty#16, liq_precip_dim#17L, liq_precip_cond#18L, sky_cov#19, sky_cov_base_hgt#20L, sky_cov_cld#21, sky_sum_cov#22L, sky_sum_hgt#23L, sky_obs_tot_cov#24, ... 5 more fields]\n+- SubqueryAlias all_data\n   +- View (`All_Data`, [Flight_Num#192,Flight_DateTime#246,WeatherDtTm#4,WeatherDelay#125,w_dir_angle#5L,w_type#6,w_speed_rate#7L,sky_c_hgt#8L,sky_c_det#9,sky_c_cavok#10,vis_dist#11L,vis_var#12,tmp_air#13L,tmp_dew#14L,sea_lvl_p#15L,liq_precip_qty#16,liq_precip_dim#17L,liq_precip_cond#18L,sky_cov#19,sky_cov_base_hgt#20L,sky_cov_cld#21,sky_sum_cov#22L,sky_sum_hgt#23L,sky_obs_tot_cov#24,sky_low_cld_base_hgt#25L,at_pres_altimeter_rate#26L,at_pres_stn_rate#27L,T_x#1416])\n      +- Project [Flight_Num#192, Flight_DateTime#246, WeatherDtTm#4, WeatherDelay#125, w_dir_angle#5L, w_type#6, w_speed_rate#7L, sky_c_hgt#8L, sky_c_det#9, sky_c_cavok#10, vis_dist#11L, vis_var#12, tmp_air#13L, tmp_dew#14L, sea_lvl_p#15L, liq_precip_qty#16, liq_precip_dim#17L, liq_precip_cond#18L, sky_cov#19, sky_cov_base_hgt#20L, sky_cov_cld#21, sky_sum_cov#22L, sky_sum_hgt#23L, sky_obs_tot_cov#24, ... 4 more fields]\n         +- Project [Flight_Num#192, Flight_DateTime#246, WeatherDtTm#4, WeatherDelay#125, w_dir_angle#5L, w_type#6, w_speed_rate#7L, sky_c_hgt#8L, sky_c_det#9, sky_c_cavok#10, vis_dist#11L, vis_var#12, tmp_air#13L, tmp_dew#14L, sea_lvl_p#15L, liq_precip_qty#16, liq_precip_dim#17L, liq_precip_cond#18L, sky_cov#19, sky_cov_base_hgt#20L, sky_cov_cld#21, sky_sum_cov#22L, sky_sum_hgt#23L, sky_obs_tot_cov#24, ... 6 more fields]\n            +- Window [dense_rank(WeatherDtTm#4, __index_level_0__#28L) windowspecdefinition(Flight_Num#192, WeatherDtTm#4 ASC NULLS FIRST, __index_level_0__#28L ASC NULLS FIRST, specifiedwindowframe(RowFrame, unboundedpreceding$(), currentrow$())) AS T_x#1416], [Flight_Num#192], [WeatherDtTm#4 ASC NULLS FIRST, __index_level_0__#28L ASC NULLS FIRST]\n               +- Project [Flight_Num#192, Flight_DateTime#246, WeatherDtTm#4, WeatherDelay#125, w_dir_angle#5L, w_type#6, w_speed_rate#7L, sky_c_hgt#8L, sky_c_det#9, sky_c_cavok#10, vis_dist#11L, vis_var#12, tmp_air#13L, tmp_dew#14L, sea_lvl_p#15L, liq_precip_qty#16, liq_precip_dim#17L, liq_precip_cond#18L, sky_cov#19, sky_cov_base_hgt#20L, sky_cov_cld#21, sky_sum_cov#22L, sky_sum_hgt#23L, sky_obs_tot_cov#24, ... 4 more fields]\n                  +- Filter ((((Origin#130 = Origin#0) AND (Tail_Number#141 = tail_no#371)) AND ((cast(WeatherDtTm#4 as timestamp) >= weather_wdw_start#299) AND (cast(WeatherDtTm#4 as timestamp) <= Flight_DateTime#246))) AND ((Origin#130 = DFW) AND NOT (DepTime#118 = )))\n                     +- Join Inner\n                        :- Join Inner\n                        :  :- SubqueryAlias a\n                        :  :  +- SubqueryAlias aircraft\n                        :  :     +- View (`Aircraft`, [_c0#370,tail_no#371,mfr#372,model#373,type#374,passengers#375,wght_class#376,engine_type#377,no_engines#378,tail_prefix#379])\n                        :  :        +- Relation [_c0#370,tail_no#371,mfr#372,model#373,type#374,passengers#375,wght_class#376,engine_type#377,no_engines#378,tail_prefix#379] csv\n                        :  +- SubqueryAlias o\n                        :     +- SubqueryAlias ontime\n                        :        +- View (`Ontime`, [DestStateFips#92L,Dest#93,Cancelled#94,LongestAddGTime#95,DOT_ID_Reporting_Airline#96L,TotalAddGTime#97,DepTimeBlk#98,OriginStateFips#99L,SecurityDelay#100,ArrDel15#101,TaxiOut#102,ArrDelayMinutes#103,ArrivalDelayGroups#104L,ActualElapsedTime#105,TaxiIn#106,Year#107L,NASDelay#108,Flight_Number_Reporting_Airline#109L,DepDelayMinutes#110,CarrierDelay#111,OriginAirportSeqID#112L,FirstDepTime#113,Month#114L,DestAirportSeqID#115L,CRSDepTime#116L,OriginAirportID#117L,DepTime#118,ArrDelay#119,AirTime#120,OriginCityMarketID#121L,DestAirportID#122L,ArrTimeBlk#123,DayOfWeek#124L,WeatherDelay#125,Diverted#126,CRSElapsedTime#127,WheelsOff#128,DestCityMarketID#129L,Origin#130,DepartureDelayGroups#131L,DepDelay#132,DayofMonth#133L,LateAircraftDelay#134,OriginWac#135L,WheelsOn#136,DepDel15#137,Flights#138,DestWac#139L,FlightDate#140,Tail_Number#141,Flight_Num#192,Flight_DateTime#246,weather_wdw_start#299])\n                        :           +- Project [DestStateFips#92L, Dest#93, Cancelled#94, LongestAddGTime#95, DOT_ID_Reporting_Airline#96L, TotalAddGTime#97, DepTimeBlk#98, OriginStateFips#99L, SecurityDelay#100, ArrDel15#101, TaxiOut#102, ArrDelayMinutes#103, ArrivalDelayGroups#104L, ActualElapsedTime#105, TaxiIn#106, Year#107L, NASDelay#108, Flight_Number_Reporting_Airline#109L, DepDelayMinutes#110, CarrierDelay#111, OriginAirportSeqID#112L, FirstDepTime#113, Month#114L, DestAirportSeqID#115L, ... 29 more fields]\n                        :              +- Project [DestStateFips#92L, Dest#93, Cancelled#94, LongestAddGTime#95, DOT_ID_Reporting_Airline#96L, TotalAddGTime#97, DepTimeBlk#98, OriginStateFips#99L, SecurityDelay#100, ArrDel15#101, TaxiOut#102, ArrDelayMinutes#103, ArrivalDelayGroups#104L, ActualElapsedTime#105, TaxiIn#106, Year#107L, NASDelay#108, Flight_Number_Reporting_Airline#109L, DepDelayMinutes#110, CarrierDelay#111, OriginAirportSeqID#112L, FirstDepTime#113, Month#114L, DestAirportSeqID#115L, ... 28 more fields]\n                        :                 +- Project [DestStateFips#92L, Dest#93, Cancelled#94, LongestAddGTime#95, DOT_ID_Reporting_Airline#96L, TotalAddGTime#97, DepTimeBlk#98, OriginStateFips#99L, SecurityDelay#100, ArrDel15#101, TaxiOut#102, ArrDelayMinutes#103, ArrivalDelayGroups#104L, ActualElapsedTime#105, TaxiIn#106, Year#107L, NASDelay#108, Flight_Number_Reporting_Airline#109L, DepDelayMinutes#110, CarrierDelay#111, OriginAirportSeqID#112L, FirstDepTime#113, Month#114L, DestAirportSeqID#115L, ... 27 more fields]\n                        :                    +- Relation [DestStateFips#92L,Dest#93,Cancelled#94,LongestAddGTime#95,DOT_ID_Reporting_Airline#96L,TotalAddGTime#97,DepTimeBlk#98,OriginStateFips#99L,SecurityDelay#100,ArrDel15#101,TaxiOut#102,ArrDelayMinutes#103,ArrivalDelayGroups#104L,ActualElapsedTime#105,TaxiIn#106,Year#107L,NASDelay#108,Flight_Number_Reporting_Airline#109L,DepDelayMinutes#110,CarrierDelay#111,OriginAirportSeqID#112L,FirstDepTime#113,Month#114L,DestAirportSeqID#115L,... 26 more fields] parquet\n                        +- SubqueryAlias w\n                           +- SubqueryAlias all_weather\n                              +- View (`All_Weather`, [Origin#0,FlightDate#1,CRSDepTime#2L,OriginDtTm#3,WeatherDtTm#4,w_dir_angle#5L,w_type#6,w_speed_rate#7L,sky_c_hgt#8L,sky_c_det#9,sky_c_cavok#10,vis_dist#11L,vis_var#12,tmp_air#13L,tmp_dew#14L,sea_lvl_p#15L,liq_precip_qty#16,liq_precip_dim#17L,liq_precip_cond#18L,sky_cov#19,sky_cov_base_hgt#20L,sky_cov_cld#21,sky_sum_cov#22L,sky_sum_hgt#23L,sky_obs_tot_cov#24,sky_low_cld_base_hgt#25L,at_pres_altimeter_rate#26L,at_pres_stn_rate#27L,__index_level_0__#28L])\n                                 +- Relation [Origin#0,FlightDate#1,CRSDepTime#2L,OriginDtTm#3,WeatherDtTm#4,w_dir_angle#5L,w_type#6,w_speed_rate#7L,sky_c_hgt#8L,sky_c_det#9,sky_c_cavok#10,vis_dist#11L,vis_var#12,tmp_air#13L,tmp_dew#14L,sea_lvl_p#15L,liq_precip_qty#16,liq_precip_dim#17L,liq_precip_cond#18L,sky_cov#19,sky_cov_base_hgt#20L,sky_cov_cld#21,sky_sum_cov#22L,sky_sum_hgt#23L,... 5 more fields] parquet\n"
          ]
        }
      ]
    },
    {
      "cell_type": "markdown",
      "source": [],
      "metadata": {
        "id": "bAT9Hbo_1GMm"
      }
    },
    {
      "cell_type": "code",
      "source": [
        "dw_g = dw.groupby('Flight_Num')[['T_x']].count()\n",
        "flights = dw_g[dw_g['T_x'] > 20].index"
      ],
      "metadata": {
        "id": "qvjoB5zNVGUj"
      },
      "execution_count": 192,
      "outputs": []
    },
    {
      "cell_type": "code",
      "source": [
        "lst = []\n",
        "grp = dw[dw['Flight_Num'].isin(flights)].groupby('Flight_Num')\n",
        "for k,f in grp:\n",
        "  lst.append(f.head(20))\n",
        "final = pd.concat(lst)"
      ],
      "metadata": {
        "id": "BwGgo0eOeM1p"
      },
      "execution_count": 200,
      "outputs": []
    },
    {
      "cell_type": "code",
      "source": [
        "len(final.Flight_Num.unique()), final.shape"
      ],
      "metadata": {
        "colab": {
          "base_uri": "https://localhost:8080/"
        },
        "id": "6NCc_6m_hkuS",
        "outputId": "ef58d4e9-fe7f-4f97-f8b1-02f331cd6187"
      },
      "execution_count": 206,
      "outputs": [
        {
          "output_type": "execute_result",
          "data": {
            "text/plain": [
              "(220, (4400, 7))"
            ]
          },
          "metadata": {},
          "execution_count": 206
        }
      ]
    },
    {
      "cell_type": "code",
      "source": [
        "nf = final.values.reshape(220,20,7)"
      ],
      "metadata": {
        "id": "7ywdVDGah2BD"
      },
      "execution_count": 210,
      "outputs": []
    },
    {
      "cell_type": "code",
      "source": [
        "nf[0][1]"
      ],
      "metadata": {
        "colab": {
          "base_uri": "https://localhost:8080/"
        },
        "id": "2cLq5HMCi1nF",
        "outputId": "a623e5ef-5865-4973-c066-ea6928c6657b"
      },
      "execution_count": 215,
      "outputs": [
        {
          "output_type": "execute_result",
          "data": {
            "text/plain": [
              "array(['19805_1004_2014-08-17', Timestamp('2014-08-17 18:53:00'), 1.0,\n",
              "       2.0, 57, '+0244', 2], dtype=object)"
            ]
          },
          "metadata": {},
          "execution_count": 215
        }
      ]
    },
    {
      "cell_type": "markdown",
      "source": [
        "# Combine Weather Data with Flight"
      ],
      "metadata": {
        "id": "jqjO2rQ0MwYu"
      }
    },
    {
      "cell_type": "markdown",
      "source": [
        "Let's first get a date or two that had severe weather delays."
      ],
      "metadata": {
        "id": "uHvKX_YFXKYU"
      }
    },
    {
      "cell_type": "code",
      "source": [
        "rslts = spark.sql('Select * FROM Weather Limit 1')"
      ],
      "metadata": {
        "id": "5gUe5rgEtZpY"
      },
      "execution_count": 13,
      "outputs": []
    },
    {
      "cell_type": "code",
      "source": [
        "rslts.show()"
      ],
      "metadata": {
        "colab": {
          "base_uri": "https://localhost:8080/"
        },
        "id": "UVBepsUuy5uK",
        "outputId": "a48c8a17-0773-4bb3-d22f-7cdbe7990c00"
      },
      "execution_count": 30,
      "outputs": [
        {
          "output_type": "stream",
          "name": "stdout",
          "text": [
            "+------+----------+----------+-------------------+-------------------+-----------+----------+------+------------+------------+---------+----------+---------+-----------+--------+-------------+-------+------------+-------+------------+-------+------------+---------+--------------+--------------+--------------+---------------+---------------+-------+------------+----------------+-----------------+-----------+----------------+-----------+-----------+----------------+---------------+--------------------+--------------------+-------------------------+----------------------+----------------+-----------------+\n",
            "|Origin|FlightDate|CRSDepTime|         OriginDtTm|        WeatherDtTm|w_dir_angle|w_dir_qlty|w_type|w_speed_rate|w_speed_qlty|sky_c_hgt|sky_c_qlty|sky_c_det|sky_c_cavok|vis_dist|vis_dist_qlty|vis_var|vis_var_qlty|tmp_air|tmp_air_qlty|tmp_dew|tmp_dew_qlty|sea_lvl_p|sea_lvl_p_qlty|liq_precip_qty|liq_precip_dim|liq_precip_cond|liq_precip_qlty|sky_cov|sky_cov_qlty|sky_cov_base_hgt|sky_cov_base_qlty|sky_cov_cld|sky_cov_cld_qlty|sky_sum_cov|sky_sum_hgt|sky_sum_hgt_qlty|sky_obs_tot_cov|sky_obs_qlty_tot_cov|sky_low_cld_base_hgt|sky_low_cld_base_hgt_qlty|at_pres_altimeter_rate|at_pres_stn_rate|__index_level_0__|\n",
            "+------+----------+----------+-------------------+-------------------+-----------+----------+------+------------+------------+---------+----------+---------+-----------+--------+-------------+-------+------------+-------+------------+-------+------------+---------+--------------+--------------+--------------+---------------+---------------+-------+------------+----------------+-----------------+-----------+----------------+-----------+-----------+----------------+---------------+--------------------+--------------------+-------------------------+----------------------+----------------+-----------------+\n",
            "|   DFW|2010-01-01|      1000|2010-01-01 10:00:00|2010-01-01 09:00:00|        320|         1|     N|          26|           1|    22000|         1|        9|          N|   16000|            1|      N|           1|  -0011|           1|  -0039|           1|    10311|             1|            99|          9999|           null|           null|      0|           1|          +99999|                9|         99|               9|          9|       null|           99999|              0|                   1|               99999|                        9|                 99999|           10098|           207372|\n",
            "+------+----------+----------+-------------------+-------------------+-----------+----------+------+------------+------------+---------+----------+---------+-----------+--------+-------------+-------+------------+-------+------------+-------+------------+---------+--------------+--------------+--------------+---------------+---------------+-------+------------+----------------+-----------------+-----------+----------------+-----------+-----------+----------------+---------------+--------------------+--------------------+-------------------------+----------------------+----------------+-----------------+\n",
            "\n"
          ]
        }
      ]
    },
    {
      "cell_type": "markdown",
      "source": [
        "# 5 Flights with 5 Time Measurements"
      ],
      "metadata": {
        "id": "JDSjTogJQkV1"
      }
    },
    {
      "cell_type": "code",
      "source": [
        "#"
      ],
      "metadata": {
        "id": "dyzGDgQtXGju"
      },
      "execution_count": null,
      "outputs": []
    },
    {
      "cell_type": "code",
      "source": [
        "w = spark.sql(\"\"\"\n",
        "              Select\n",
        "                *\n",
        "              FROM\n",
        "                Weather\n",
        "              WHERE\n",
        "                FlightDate = '2014-08-17'\n",
        "\n",
        "              \"\"\")"
      ],
      "metadata": {
        "id": "awXTZC1qAZ3f"
      },
      "execution_count": 58,
      "outputs": []
    },
    {
      "cell_type": "code",
      "source": [
        "df = w.toPandas()"
      ],
      "metadata": {
        "colab": {
          "base_uri": "https://localhost:8080/"
        },
        "id": "b_Bggz9oQrUo",
        "outputId": "bf96206a-1b7a-47c1-ce28-e121a4c0281a"
      },
      "execution_count": 19,
      "outputs": [
        {
          "output_type": "stream",
          "name": "stderr",
          "text": [
            "/usr/local/lib/python3.10/dist-packages/pyspark/sql/pandas/conversion.py:251: FutureWarning: Passing unit-less datetime64 dtype to .astype is deprecated and will raise in a future version. Pass 'datetime64[ns]' instead\n",
            "  series = series.astype(t, copy=False)\n",
            "/usr/local/lib/python3.10/dist-packages/pyspark/sql/pandas/conversion.py:251: FutureWarning: Passing unit-less datetime64 dtype to .astype is deprecated and will raise in a future version. Pass 'datetime64[ns]' instead\n",
            "  series = series.astype(t, copy=False)\n"
          ]
        }
      ]
    },
    {
      "cell_type": "code",
      "source": [
        "df.head(10)"
      ],
      "metadata": {
        "colab": {
          "base_uri": "https://localhost:8080/",
          "height": 630
        },
        "id": "IL88Oty2gLyx",
        "outputId": "674f7a11-c77a-461e-b2d6-5d71c548e127"
      },
      "execution_count": 20,
      "outputs": [
        {
          "output_type": "execute_result",
          "data": {
            "text/plain": [
              "  Origin  FlightDate  CRSDepTime          OriginDtTm         WeatherDtTm  \\\n",
              "0    DFW  2014-08-17        1000 2014-08-17 10:00:00 2014-08-17 09:00:00   \n",
              "1    DFW  2014-08-17        1000 2014-08-17 10:00:00 2014-08-17 09:00:00   \n",
              "2    DFW  2014-08-17        1000 2014-08-17 10:00:00 2014-08-17 09:00:00   \n",
              "3    DFW  2014-08-17        1000 2014-08-17 10:00:00 2014-08-17 09:00:00   \n",
              "4    DFW  2014-08-17        1005 2014-08-17 10:05:00 2014-08-17 09:00:00   \n",
              "5    DFW  2014-08-17        1005 2014-08-17 10:05:00 2014-08-17 09:00:00   \n",
              "6    DFW  2014-08-17        1005 2014-08-17 10:05:00 2014-08-17 09:00:00   \n",
              "7    DFW  2014-08-17        1010 2014-08-17 10:10:00 2014-08-17 09:00:00   \n",
              "8    DFW  2014-08-17        1010 2014-08-17 10:10:00 2014-08-17 09:00:00   \n",
              "9    DFW  2014-08-17        1010 2014-08-17 10:10:00 2014-08-17 09:00:00   \n",
              "\n",
              "   w_dir_angle w_dir_qlty w_type  w_speed_rate w_speed_qlty  ...  sky_sum_cov  \\\n",
              "0          100          1      N            26            1  ...            9   \n",
              "1          100          1      N            26            1  ...            9   \n",
              "2          100          1      N            26            1  ...            9   \n",
              "3          100          1      N            26            1  ...            9   \n",
              "4          100          1      N            26            1  ...            9   \n",
              "5          100          1      N            26            1  ...            9   \n",
              "6          100          1      N            26            1  ...            9   \n",
              "7          100          1      N            26            1  ...            9   \n",
              "8          100          1      N            26            1  ...            9   \n",
              "9          100          1      N            26            1  ...            9   \n",
              "\n",
              "  sky_sum_hgt sky_sum_hgt_qlty sky_obs_tot_cov  sky_obs_qlty_tot_cov  \\\n",
              "0        None            99999               6                     1   \n",
              "1        None            99999               6                     1   \n",
              "2        None            99999               6                     1   \n",
              "3        None            99999               6                     1   \n",
              "4        None            99999               6                     1   \n",
              "5        None            99999               6                     1   \n",
              "6        None            99999               6                     1   \n",
              "7        None            99999               6                     1   \n",
              "8        None            99999               6                     1   \n",
              "9        None            99999               6                     1   \n",
              "\n",
              "  sky_low_cld_base_hgt sky_low_cld_base_hgt_qlty at_pres_altimeter_rate  \\\n",
              "0                 2250                         1                  99999   \n",
              "1                 2250                         1                  99999   \n",
              "2                 2250                         1                  99999   \n",
              "3                 2250                         1                  99999   \n",
              "4                 2250                         1                  99999   \n",
              "5                 2250                         1                  99999   \n",
              "6                 2250                         1                  99999   \n",
              "7                 2250                         1                  99999   \n",
              "8                 2250                         1                  99999   \n",
              "9                 2250                         1                  99999   \n",
              "\n",
              "  at_pres_stn_rate __index_level_0__  \n",
              "0             9921            246570  \n",
              "1             9921            246571  \n",
              "2             9921            246572  \n",
              "3             9921            246573  \n",
              "4             9921            246574  \n",
              "5             9921            246575  \n",
              "6             9921            246576  \n",
              "7             9921            246577  \n",
              "8             9921            246578  \n",
              "9             9921            246579  \n",
              "\n",
              "[10 rows x 44 columns]"
            ],
            "text/html": [
              "\n",
              "  <div id=\"df-d41b7156-eadc-49de-aa33-0745241adafe\">\n",
              "    <div class=\"colab-df-container\">\n",
              "      <div>\n",
              "<style scoped>\n",
              "    .dataframe tbody tr th:only-of-type {\n",
              "        vertical-align: middle;\n",
              "    }\n",
              "\n",
              "    .dataframe tbody tr th {\n",
              "        vertical-align: top;\n",
              "    }\n",
              "\n",
              "    .dataframe thead th {\n",
              "        text-align: right;\n",
              "    }\n",
              "</style>\n",
              "<table border=\"1\" class=\"dataframe\">\n",
              "  <thead>\n",
              "    <tr style=\"text-align: right;\">\n",
              "      <th></th>\n",
              "      <th>Origin</th>\n",
              "      <th>FlightDate</th>\n",
              "      <th>CRSDepTime</th>\n",
              "      <th>OriginDtTm</th>\n",
              "      <th>WeatherDtTm</th>\n",
              "      <th>w_dir_angle</th>\n",
              "      <th>w_dir_qlty</th>\n",
              "      <th>w_type</th>\n",
              "      <th>w_speed_rate</th>\n",
              "      <th>w_speed_qlty</th>\n",
              "      <th>...</th>\n",
              "      <th>sky_sum_cov</th>\n",
              "      <th>sky_sum_hgt</th>\n",
              "      <th>sky_sum_hgt_qlty</th>\n",
              "      <th>sky_obs_tot_cov</th>\n",
              "      <th>sky_obs_qlty_tot_cov</th>\n",
              "      <th>sky_low_cld_base_hgt</th>\n",
              "      <th>sky_low_cld_base_hgt_qlty</th>\n",
              "      <th>at_pres_altimeter_rate</th>\n",
              "      <th>at_pres_stn_rate</th>\n",
              "      <th>__index_level_0__</th>\n",
              "    </tr>\n",
              "  </thead>\n",
              "  <tbody>\n",
              "    <tr>\n",
              "      <th>0</th>\n",
              "      <td>DFW</td>\n",
              "      <td>2014-08-17</td>\n",
              "      <td>1000</td>\n",
              "      <td>2014-08-17 10:00:00</td>\n",
              "      <td>2014-08-17 09:00:00</td>\n",
              "      <td>100</td>\n",
              "      <td>1</td>\n",
              "      <td>N</td>\n",
              "      <td>26</td>\n",
              "      <td>1</td>\n",
              "      <td>...</td>\n",
              "      <td>9</td>\n",
              "      <td>None</td>\n",
              "      <td>99999</td>\n",
              "      <td>6</td>\n",
              "      <td>1</td>\n",
              "      <td>2250</td>\n",
              "      <td>1</td>\n",
              "      <td>99999</td>\n",
              "      <td>9921</td>\n",
              "      <td>246570</td>\n",
              "    </tr>\n",
              "    <tr>\n",
              "      <th>1</th>\n",
              "      <td>DFW</td>\n",
              "      <td>2014-08-17</td>\n",
              "      <td>1000</td>\n",
              "      <td>2014-08-17 10:00:00</td>\n",
              "      <td>2014-08-17 09:00:00</td>\n",
              "      <td>100</td>\n",
              "      <td>1</td>\n",
              "      <td>N</td>\n",
              "      <td>26</td>\n",
              "      <td>1</td>\n",
              "      <td>...</td>\n",
              "      <td>9</td>\n",
              "      <td>None</td>\n",
              "      <td>99999</td>\n",
              "      <td>6</td>\n",
              "      <td>1</td>\n",
              "      <td>2250</td>\n",
              "      <td>1</td>\n",
              "      <td>99999</td>\n",
              "      <td>9921</td>\n",
              "      <td>246571</td>\n",
              "    </tr>\n",
              "    <tr>\n",
              "      <th>2</th>\n",
              "      <td>DFW</td>\n",
              "      <td>2014-08-17</td>\n",
              "      <td>1000</td>\n",
              "      <td>2014-08-17 10:00:00</td>\n",
              "      <td>2014-08-17 09:00:00</td>\n",
              "      <td>100</td>\n",
              "      <td>1</td>\n",
              "      <td>N</td>\n",
              "      <td>26</td>\n",
              "      <td>1</td>\n",
              "      <td>...</td>\n",
              "      <td>9</td>\n",
              "      <td>None</td>\n",
              "      <td>99999</td>\n",
              "      <td>6</td>\n",
              "      <td>1</td>\n",
              "      <td>2250</td>\n",
              "      <td>1</td>\n",
              "      <td>99999</td>\n",
              "      <td>9921</td>\n",
              "      <td>246572</td>\n",
              "    </tr>\n",
              "    <tr>\n",
              "      <th>3</th>\n",
              "      <td>DFW</td>\n",
              "      <td>2014-08-17</td>\n",
              "      <td>1000</td>\n",
              "      <td>2014-08-17 10:00:00</td>\n",
              "      <td>2014-08-17 09:00:00</td>\n",
              "      <td>100</td>\n",
              "      <td>1</td>\n",
              "      <td>N</td>\n",
              "      <td>26</td>\n",
              "      <td>1</td>\n",
              "      <td>...</td>\n",
              "      <td>9</td>\n",
              "      <td>None</td>\n",
              "      <td>99999</td>\n",
              "      <td>6</td>\n",
              "      <td>1</td>\n",
              "      <td>2250</td>\n",
              "      <td>1</td>\n",
              "      <td>99999</td>\n",
              "      <td>9921</td>\n",
              "      <td>246573</td>\n",
              "    </tr>\n",
              "    <tr>\n",
              "      <th>4</th>\n",
              "      <td>DFW</td>\n",
              "      <td>2014-08-17</td>\n",
              "      <td>1005</td>\n",
              "      <td>2014-08-17 10:05:00</td>\n",
              "      <td>2014-08-17 09:00:00</td>\n",
              "      <td>100</td>\n",
              "      <td>1</td>\n",
              "      <td>N</td>\n",
              "      <td>26</td>\n",
              "      <td>1</td>\n",
              "      <td>...</td>\n",
              "      <td>9</td>\n",
              "      <td>None</td>\n",
              "      <td>99999</td>\n",
              "      <td>6</td>\n",
              "      <td>1</td>\n",
              "      <td>2250</td>\n",
              "      <td>1</td>\n",
              "      <td>99999</td>\n",
              "      <td>9921</td>\n",
              "      <td>246574</td>\n",
              "    </tr>\n",
              "    <tr>\n",
              "      <th>5</th>\n",
              "      <td>DFW</td>\n",
              "      <td>2014-08-17</td>\n",
              "      <td>1005</td>\n",
              "      <td>2014-08-17 10:05:00</td>\n",
              "      <td>2014-08-17 09:00:00</td>\n",
              "      <td>100</td>\n",
              "      <td>1</td>\n",
              "      <td>N</td>\n",
              "      <td>26</td>\n",
              "      <td>1</td>\n",
              "      <td>...</td>\n",
              "      <td>9</td>\n",
              "      <td>None</td>\n",
              "      <td>99999</td>\n",
              "      <td>6</td>\n",
              "      <td>1</td>\n",
              "      <td>2250</td>\n",
              "      <td>1</td>\n",
              "      <td>99999</td>\n",
              "      <td>9921</td>\n",
              "      <td>246575</td>\n",
              "    </tr>\n",
              "    <tr>\n",
              "      <th>6</th>\n",
              "      <td>DFW</td>\n",
              "      <td>2014-08-17</td>\n",
              "      <td>1005</td>\n",
              "      <td>2014-08-17 10:05:00</td>\n",
              "      <td>2014-08-17 09:00:00</td>\n",
              "      <td>100</td>\n",
              "      <td>1</td>\n",
              "      <td>N</td>\n",
              "      <td>26</td>\n",
              "      <td>1</td>\n",
              "      <td>...</td>\n",
              "      <td>9</td>\n",
              "      <td>None</td>\n",
              "      <td>99999</td>\n",
              "      <td>6</td>\n",
              "      <td>1</td>\n",
              "      <td>2250</td>\n",
              "      <td>1</td>\n",
              "      <td>99999</td>\n",
              "      <td>9921</td>\n",
              "      <td>246576</td>\n",
              "    </tr>\n",
              "    <tr>\n",
              "      <th>7</th>\n",
              "      <td>DFW</td>\n",
              "      <td>2014-08-17</td>\n",
              "      <td>1010</td>\n",
              "      <td>2014-08-17 10:10:00</td>\n",
              "      <td>2014-08-17 09:00:00</td>\n",
              "      <td>100</td>\n",
              "      <td>1</td>\n",
              "      <td>N</td>\n",
              "      <td>26</td>\n",
              "      <td>1</td>\n",
              "      <td>...</td>\n",
              "      <td>9</td>\n",
              "      <td>None</td>\n",
              "      <td>99999</td>\n",
              "      <td>6</td>\n",
              "      <td>1</td>\n",
              "      <td>2250</td>\n",
              "      <td>1</td>\n",
              "      <td>99999</td>\n",
              "      <td>9921</td>\n",
              "      <td>246577</td>\n",
              "    </tr>\n",
              "    <tr>\n",
              "      <th>8</th>\n",
              "      <td>DFW</td>\n",
              "      <td>2014-08-17</td>\n",
              "      <td>1010</td>\n",
              "      <td>2014-08-17 10:10:00</td>\n",
              "      <td>2014-08-17 09:00:00</td>\n",
              "      <td>100</td>\n",
              "      <td>1</td>\n",
              "      <td>N</td>\n",
              "      <td>26</td>\n",
              "      <td>1</td>\n",
              "      <td>...</td>\n",
              "      <td>9</td>\n",
              "      <td>None</td>\n",
              "      <td>99999</td>\n",
              "      <td>6</td>\n",
              "      <td>1</td>\n",
              "      <td>2250</td>\n",
              "      <td>1</td>\n",
              "      <td>99999</td>\n",
              "      <td>9921</td>\n",
              "      <td>246578</td>\n",
              "    </tr>\n",
              "    <tr>\n",
              "      <th>9</th>\n",
              "      <td>DFW</td>\n",
              "      <td>2014-08-17</td>\n",
              "      <td>1010</td>\n",
              "      <td>2014-08-17 10:10:00</td>\n",
              "      <td>2014-08-17 09:00:00</td>\n",
              "      <td>100</td>\n",
              "      <td>1</td>\n",
              "      <td>N</td>\n",
              "      <td>26</td>\n",
              "      <td>1</td>\n",
              "      <td>...</td>\n",
              "      <td>9</td>\n",
              "      <td>None</td>\n",
              "      <td>99999</td>\n",
              "      <td>6</td>\n",
              "      <td>1</td>\n",
              "      <td>2250</td>\n",
              "      <td>1</td>\n",
              "      <td>99999</td>\n",
              "      <td>9921</td>\n",
              "      <td>246579</td>\n",
              "    </tr>\n",
              "  </tbody>\n",
              "</table>\n",
              "<p>10 rows × 44 columns</p>\n",
              "</div>\n",
              "      <button class=\"colab-df-convert\" onclick=\"convertToInteractive('df-d41b7156-eadc-49de-aa33-0745241adafe')\"\n",
              "              title=\"Convert this dataframe to an interactive table.\"\n",
              "              style=\"display:none;\">\n",
              "        \n",
              "  <svg xmlns=\"http://www.w3.org/2000/svg\" height=\"24px\"viewBox=\"0 0 24 24\"\n",
              "       width=\"24px\">\n",
              "    <path d=\"M0 0h24v24H0V0z\" fill=\"none\"/>\n",
              "    <path d=\"M18.56 5.44l.94 2.06.94-2.06 2.06-.94-2.06-.94-.94-2.06-.94 2.06-2.06.94zm-11 1L8.5 8.5l.94-2.06 2.06-.94-2.06-.94L8.5 2.5l-.94 2.06-2.06.94zm10 10l.94 2.06.94-2.06 2.06-.94-2.06-.94-.94-2.06-.94 2.06-2.06.94z\"/><path d=\"M17.41 7.96l-1.37-1.37c-.4-.4-.92-.59-1.43-.59-.52 0-1.04.2-1.43.59L10.3 9.45l-7.72 7.72c-.78.78-.78 2.05 0 2.83L4 21.41c.39.39.9.59 1.41.59.51 0 1.02-.2 1.41-.59l7.78-7.78 2.81-2.81c.8-.78.8-2.07 0-2.86zM5.41 20L4 18.59l7.72-7.72 1.47 1.35L5.41 20z\"/>\n",
              "  </svg>\n",
              "      </button>\n",
              "      \n",
              "  <style>\n",
              "    .colab-df-container {\n",
              "      display:flex;\n",
              "      flex-wrap:wrap;\n",
              "      gap: 12px;\n",
              "    }\n",
              "\n",
              "    .colab-df-convert {\n",
              "      background-color: #E8F0FE;\n",
              "      border: none;\n",
              "      border-radius: 50%;\n",
              "      cursor: pointer;\n",
              "      display: none;\n",
              "      fill: #1967D2;\n",
              "      height: 32px;\n",
              "      padding: 0 0 0 0;\n",
              "      width: 32px;\n",
              "    }\n",
              "\n",
              "    .colab-df-convert:hover {\n",
              "      background-color: #E2EBFA;\n",
              "      box-shadow: 0px 1px 2px rgba(60, 64, 67, 0.3), 0px 1px 3px 1px rgba(60, 64, 67, 0.15);\n",
              "      fill: #174EA6;\n",
              "    }\n",
              "\n",
              "    [theme=dark] .colab-df-convert {\n",
              "      background-color: #3B4455;\n",
              "      fill: #D2E3FC;\n",
              "    }\n",
              "\n",
              "    [theme=dark] .colab-df-convert:hover {\n",
              "      background-color: #434B5C;\n",
              "      box-shadow: 0px 1px 3px 1px rgba(0, 0, 0, 0.15);\n",
              "      filter: drop-shadow(0px 1px 2px rgba(0, 0, 0, 0.3));\n",
              "      fill: #FFFFFF;\n",
              "    }\n",
              "  </style>\n",
              "\n",
              "      <script>\n",
              "        const buttonEl =\n",
              "          document.querySelector('#df-d41b7156-eadc-49de-aa33-0745241adafe button.colab-df-convert');\n",
              "        buttonEl.style.display =\n",
              "          google.colab.kernel.accessAllowed ? 'block' : 'none';\n",
              "\n",
              "        async function convertToInteractive(key) {\n",
              "          const element = document.querySelector('#df-d41b7156-eadc-49de-aa33-0745241adafe');\n",
              "          const dataTable =\n",
              "            await google.colab.kernel.invokeFunction('convertToInteractive',\n",
              "                                                     [key], {});\n",
              "          if (!dataTable) return;\n",
              "\n",
              "          const docLinkHtml = 'Like what you see? Visit the ' +\n",
              "            '<a target=\"_blank\" href=https://colab.research.google.com/notebooks/data_table.ipynb>data table notebook</a>'\n",
              "            + ' to learn more about interactive tables.';\n",
              "          element.innerHTML = '';\n",
              "          dataTable['output_type'] = 'display_data';\n",
              "          await google.colab.output.renderOutput(dataTable, element);\n",
              "          const docLink = document.createElement('div');\n",
              "          docLink.innerHTML = docLinkHtml;\n",
              "          element.appendChild(docLink);\n",
              "        }\n",
              "      </script>\n",
              "    </div>\n",
              "  </div>\n",
              "  "
            ]
          },
          "metadata": {},
          "execution_count": 20
        }
      ]
    },
    {
      "cell_type": "code",
      "source": [],
      "metadata": {
        "id": "DrzmJYOWgh7r"
      },
      "execution_count": 14,
      "outputs": []
    },
    {
      "cell_type": "code",
      "source": [
        "flights = spark.sql(\"\"\"\n",
        "                      Select\n",
        "                        *\n",
        "                      FROM\n",
        "                        Ontime\n",
        "                      WHERE\n",
        "                        Origin='DFW' and\n",
        "                        FlightDate = '2014-08-17'\n",
        "\n",
        "                    \"\"\")\n",
        "\n",
        "#   Flight_DateTime,\n",
        "\n",
        "#   Flight_Number_Reporting_Airline,\n",
        "#   WeatherDelay,\n",
        "#   DepDel15,\n",
        "#   FlightDate\n",
        "# weather_wdw_start,"
      ],
      "metadata": {
        "id": "gd1QRYdSQ8fC"
      },
      "execution_count": 167,
      "outputs": []
    },
    {
      "cell_type": "code",
      "source": [
        "flights.show(2)"
      ],
      "metadata": {
        "colab": {
          "base_uri": "https://localhost:8080/"
        },
        "id": "JfsWqYXBRgud",
        "outputId": "c7f847c6-c5a0-49f7-a1f1-d81b24710739"
      },
      "execution_count": 69,
      "outputs": [
        {
          "output_type": "stream",
          "name": "stdout",
          "text": [
            "+-------------+----+---------+---------------+------------------------+-------------+----------+---------------+-------------+--------+-------+---------------+------------------+-----------------+------+----+--------+-------------------------------+---------------+------------+------------------+------------+-----+----------------+----------+---------------+-------+--------+-------+------------------+-------------+----------+---------+------------+--------+--------------+---------+----------------+------+--------------------+--------+----------+-----------------+---------+--------+--------+-------+-------+----------+-----------+----------+---------------+-----------------+\n",
            "|DestStateFips|Dest|Cancelled|LongestAddGTime|DOT_ID_Reporting_Airline|TotalAddGTime|DepTimeBlk|OriginStateFips|SecurityDelay|ArrDel15|TaxiOut|ArrDelayMinutes|ArrivalDelayGroups|ActualElapsedTime|TaxiIn|Year|NASDelay|Flight_Number_Reporting_Airline|DepDelayMinutes|CarrierDelay|OriginAirportSeqID|FirstDepTime|Month|DestAirportSeqID|CRSDepTime|OriginAirportID|DepTime|ArrDelay|AirTime|OriginCityMarketID|DestAirportID|ArrTimeBlk|DayOfWeek|WeatherDelay|Diverted|CRSElapsedTime|WheelsOff|DestCityMarketID|Origin|DepartureDelayGroups|DepDelay|DayofMonth|LateAircraftDelay|OriginWac|WheelsOn|DepDel15|Flights|DestWac|FlightDate|Tail_Number|Flight_Num|Flight_DateTime|weather_wdw_start|\n",
            "+-------------+----+---------+---------------+------------------------+-------------+----------+---------------+-------------+--------+-------+---------------+------------------+-----------------+------+----+--------+-------------------------------+---------------+------------+------------------+------------+-----+----------------+----------+---------------+-------+--------+-------+------------------+-------------+----------+---------+------------+--------+--------------+---------+----------------+------+--------------------+--------+----------+-----------------+---------+--------+--------+-------+-------+----------+-----------+----------+---------------+-----------------+\n",
            "|            6| SAN|      0.0|           null|                   19805|         null| 1700-1759|             48|          0.0|     1.0|   16.0|          157.0|                10|            181.0|   8.0|2014|    11.0|                             71|          146.0|         0.0|           1129803|            |    8|         1467903|      1735|          11298|   2001|   157.0|  157.0|             30194|        14679| 1800-1859|        7|       146.0|     0.0|         170.0|     2017|           33570|   DFW|                   9|   146.0|        17|              0.0|       74|    2054|     1.0|    1.0|     91|2014-08-17|     N3CBAA|      null|           null|             null|\n",
            "|           12| MCO|      0.0|           null|                   19805|         null| 0600-0659|             48|         null|     0.0|   12.0|            0.0|                -1|            147.0|   5.0|2014|    null|                             72|            0.0|        null|           1129803|            |    8|         1320402|       610|          11298|    606|    -7.0|  130.0|             30194|        13204| 0900-0959|        7|        null|     0.0|         150.0|      618|           31454|   DFW|                  -1|    -4.0|        17|             null|       74|     928|     0.0|    1.0|     33|2014-08-17|     N4YBAA|      null|           null|             null|\n",
            "+-------------+----+---------+---------------+------------------------+-------------+----------+---------------+-------------+--------+-------+---------------+------------------+-----------------+------+----+--------+-------------------------------+---------------+------------+------------------+------------+-----+----------------+----------+---------------+-------+--------+-------+------------------+-------------+----------+---------+------------+--------+--------------+---------+----------------+------+--------------------+--------+----------+-----------------+---------+--------+--------+-------+-------+----------+-----------+----------+---------------+-----------------+\n",
            "only showing top 2 rows\n",
            "\n"
          ]
        }
      ]
    },
    {
      "cell_type": "code",
      "source": [
        "df.head(20)"
      ],
      "metadata": {
        "colab": {
          "base_uri": "https://localhost:8080/",
          "height": 677
        },
        "id": "kCWpw-AaUCV9",
        "outputId": "86d89e2f-9554-4caa-c83c-8077ec3ac6cf"
      },
      "execution_count": 24,
      "outputs": [
        {
          "output_type": "execute_result",
          "data": {
            "text/plain": [
              "    Flight_Number_Reporting_Airline  WeatherDelay  DepDel15  FlightDate\n",
              "0                                71         146.0       1.0  2014-08-17\n",
              "1                                72           NaN       0.0  2014-08-17\n",
              "2                                73          58.0       1.0  2014-08-17\n",
              "3                                79          31.0       1.0  2014-08-17\n",
              "4                                81         101.0       1.0  2014-08-17\n",
              "5                                88          49.0       1.0  2014-08-17\n",
              "6                                90         120.0       1.0  2014-08-17\n",
              "7                                96           0.0       1.0  2014-08-17\n",
              "8                               138          11.0       1.0  2014-08-17\n",
              "9                               140           NaN       NaN  2014-08-17\n",
              "10                              142         108.0       1.0  2014-08-17\n",
              "11                              144         107.0       1.0  2014-08-17\n",
              "12                              150           NaN       NaN  2014-08-17\n",
              "13                              155          41.0       1.0  2014-08-17\n",
              "14                               35          59.0       1.0  2014-08-17\n",
              "15                               37           9.0       1.0  2014-08-17\n",
              "16                               43           NaN       NaN  2014-08-17\n",
              "17                               49          68.0       1.0  2014-08-17\n",
              "18                               51          76.0       1.0  2014-08-17\n",
              "19                               60           NaN       NaN  2014-08-17"
            ],
            "text/html": [
              "\n",
              "  <div id=\"df-e0de8d75-cc6c-45e7-bd95-0e9530b3899e\">\n",
              "    <div class=\"colab-df-container\">\n",
              "      <div>\n",
              "<style scoped>\n",
              "    .dataframe tbody tr th:only-of-type {\n",
              "        vertical-align: middle;\n",
              "    }\n",
              "\n",
              "    .dataframe tbody tr th {\n",
              "        vertical-align: top;\n",
              "    }\n",
              "\n",
              "    .dataframe thead th {\n",
              "        text-align: right;\n",
              "    }\n",
              "</style>\n",
              "<table border=\"1\" class=\"dataframe\">\n",
              "  <thead>\n",
              "    <tr style=\"text-align: right;\">\n",
              "      <th></th>\n",
              "      <th>Flight_Number_Reporting_Airline</th>\n",
              "      <th>WeatherDelay</th>\n",
              "      <th>DepDel15</th>\n",
              "      <th>FlightDate</th>\n",
              "    </tr>\n",
              "  </thead>\n",
              "  <tbody>\n",
              "    <tr>\n",
              "      <th>0</th>\n",
              "      <td>71</td>\n",
              "      <td>146.0</td>\n",
              "      <td>1.0</td>\n",
              "      <td>2014-08-17</td>\n",
              "    </tr>\n",
              "    <tr>\n",
              "      <th>1</th>\n",
              "      <td>72</td>\n",
              "      <td>NaN</td>\n",
              "      <td>0.0</td>\n",
              "      <td>2014-08-17</td>\n",
              "    </tr>\n",
              "    <tr>\n",
              "      <th>2</th>\n",
              "      <td>73</td>\n",
              "      <td>58.0</td>\n",
              "      <td>1.0</td>\n",
              "      <td>2014-08-17</td>\n",
              "    </tr>\n",
              "    <tr>\n",
              "      <th>3</th>\n",
              "      <td>79</td>\n",
              "      <td>31.0</td>\n",
              "      <td>1.0</td>\n",
              "      <td>2014-08-17</td>\n",
              "    </tr>\n",
              "    <tr>\n",
              "      <th>4</th>\n",
              "      <td>81</td>\n",
              "      <td>101.0</td>\n",
              "      <td>1.0</td>\n",
              "      <td>2014-08-17</td>\n",
              "    </tr>\n",
              "    <tr>\n",
              "      <th>5</th>\n",
              "      <td>88</td>\n",
              "      <td>49.0</td>\n",
              "      <td>1.0</td>\n",
              "      <td>2014-08-17</td>\n",
              "    </tr>\n",
              "    <tr>\n",
              "      <th>6</th>\n",
              "      <td>90</td>\n",
              "      <td>120.0</td>\n",
              "      <td>1.0</td>\n",
              "      <td>2014-08-17</td>\n",
              "    </tr>\n",
              "    <tr>\n",
              "      <th>7</th>\n",
              "      <td>96</td>\n",
              "      <td>0.0</td>\n",
              "      <td>1.0</td>\n",
              "      <td>2014-08-17</td>\n",
              "    </tr>\n",
              "    <tr>\n",
              "      <th>8</th>\n",
              "      <td>138</td>\n",
              "      <td>11.0</td>\n",
              "      <td>1.0</td>\n",
              "      <td>2014-08-17</td>\n",
              "    </tr>\n",
              "    <tr>\n",
              "      <th>9</th>\n",
              "      <td>140</td>\n",
              "      <td>NaN</td>\n",
              "      <td>NaN</td>\n",
              "      <td>2014-08-17</td>\n",
              "    </tr>\n",
              "    <tr>\n",
              "      <th>10</th>\n",
              "      <td>142</td>\n",
              "      <td>108.0</td>\n",
              "      <td>1.0</td>\n",
              "      <td>2014-08-17</td>\n",
              "    </tr>\n",
              "    <tr>\n",
              "      <th>11</th>\n",
              "      <td>144</td>\n",
              "      <td>107.0</td>\n",
              "      <td>1.0</td>\n",
              "      <td>2014-08-17</td>\n",
              "    </tr>\n",
              "    <tr>\n",
              "      <th>12</th>\n",
              "      <td>150</td>\n",
              "      <td>NaN</td>\n",
              "      <td>NaN</td>\n",
              "      <td>2014-08-17</td>\n",
              "    </tr>\n",
              "    <tr>\n",
              "      <th>13</th>\n",
              "      <td>155</td>\n",
              "      <td>41.0</td>\n",
              "      <td>1.0</td>\n",
              "      <td>2014-08-17</td>\n",
              "    </tr>\n",
              "    <tr>\n",
              "      <th>14</th>\n",
              "      <td>35</td>\n",
              "      <td>59.0</td>\n",
              "      <td>1.0</td>\n",
              "      <td>2014-08-17</td>\n",
              "    </tr>\n",
              "    <tr>\n",
              "      <th>15</th>\n",
              "      <td>37</td>\n",
              "      <td>9.0</td>\n",
              "      <td>1.0</td>\n",
              "      <td>2014-08-17</td>\n",
              "    </tr>\n",
              "    <tr>\n",
              "      <th>16</th>\n",
              "      <td>43</td>\n",
              "      <td>NaN</td>\n",
              "      <td>NaN</td>\n",
              "      <td>2014-08-17</td>\n",
              "    </tr>\n",
              "    <tr>\n",
              "      <th>17</th>\n",
              "      <td>49</td>\n",
              "      <td>68.0</td>\n",
              "      <td>1.0</td>\n",
              "      <td>2014-08-17</td>\n",
              "    </tr>\n",
              "    <tr>\n",
              "      <th>18</th>\n",
              "      <td>51</td>\n",
              "      <td>76.0</td>\n",
              "      <td>1.0</td>\n",
              "      <td>2014-08-17</td>\n",
              "    </tr>\n",
              "    <tr>\n",
              "      <th>19</th>\n",
              "      <td>60</td>\n",
              "      <td>NaN</td>\n",
              "      <td>NaN</td>\n",
              "      <td>2014-08-17</td>\n",
              "    </tr>\n",
              "  </tbody>\n",
              "</table>\n",
              "</div>\n",
              "      <button class=\"colab-df-convert\" onclick=\"convertToInteractive('df-e0de8d75-cc6c-45e7-bd95-0e9530b3899e')\"\n",
              "              title=\"Convert this dataframe to an interactive table.\"\n",
              "              style=\"display:none;\">\n",
              "        \n",
              "  <svg xmlns=\"http://www.w3.org/2000/svg\" height=\"24px\"viewBox=\"0 0 24 24\"\n",
              "       width=\"24px\">\n",
              "    <path d=\"M0 0h24v24H0V0z\" fill=\"none\"/>\n",
              "    <path d=\"M18.56 5.44l.94 2.06.94-2.06 2.06-.94-2.06-.94-.94-2.06-.94 2.06-2.06.94zm-11 1L8.5 8.5l.94-2.06 2.06-.94-2.06-.94L8.5 2.5l-.94 2.06-2.06.94zm10 10l.94 2.06.94-2.06 2.06-.94-2.06-.94-.94-2.06-.94 2.06-2.06.94z\"/><path d=\"M17.41 7.96l-1.37-1.37c-.4-.4-.92-.59-1.43-.59-.52 0-1.04.2-1.43.59L10.3 9.45l-7.72 7.72c-.78.78-.78 2.05 0 2.83L4 21.41c.39.39.9.59 1.41.59.51 0 1.02-.2 1.41-.59l7.78-7.78 2.81-2.81c.8-.78.8-2.07 0-2.86zM5.41 20L4 18.59l7.72-7.72 1.47 1.35L5.41 20z\"/>\n",
              "  </svg>\n",
              "      </button>\n",
              "      \n",
              "  <style>\n",
              "    .colab-df-container {\n",
              "      display:flex;\n",
              "      flex-wrap:wrap;\n",
              "      gap: 12px;\n",
              "    }\n",
              "\n",
              "    .colab-df-convert {\n",
              "      background-color: #E8F0FE;\n",
              "      border: none;\n",
              "      border-radius: 50%;\n",
              "      cursor: pointer;\n",
              "      display: none;\n",
              "      fill: #1967D2;\n",
              "      height: 32px;\n",
              "      padding: 0 0 0 0;\n",
              "      width: 32px;\n",
              "    }\n",
              "\n",
              "    .colab-df-convert:hover {\n",
              "      background-color: #E2EBFA;\n",
              "      box-shadow: 0px 1px 2px rgba(60, 64, 67, 0.3), 0px 1px 3px 1px rgba(60, 64, 67, 0.15);\n",
              "      fill: #174EA6;\n",
              "    }\n",
              "\n",
              "    [theme=dark] .colab-df-convert {\n",
              "      background-color: #3B4455;\n",
              "      fill: #D2E3FC;\n",
              "    }\n",
              "\n",
              "    [theme=dark] .colab-df-convert:hover {\n",
              "      background-color: #434B5C;\n",
              "      box-shadow: 0px 1px 3px 1px rgba(0, 0, 0, 0.15);\n",
              "      filter: drop-shadow(0px 1px 2px rgba(0, 0, 0, 0.3));\n",
              "      fill: #FFFFFF;\n",
              "    }\n",
              "  </style>\n",
              "\n",
              "      <script>\n",
              "        const buttonEl =\n",
              "          document.querySelector('#df-e0de8d75-cc6c-45e7-bd95-0e9530b3899e button.colab-df-convert');\n",
              "        buttonEl.style.display =\n",
              "          google.colab.kernel.accessAllowed ? 'block' : 'none';\n",
              "\n",
              "        async function convertToInteractive(key) {\n",
              "          const element = document.querySelector('#df-e0de8d75-cc6c-45e7-bd95-0e9530b3899e');\n",
              "          const dataTable =\n",
              "            await google.colab.kernel.invokeFunction('convertToInteractive',\n",
              "                                                     [key], {});\n",
              "          if (!dataTable) return;\n",
              "\n",
              "          const docLinkHtml = 'Like what you see? Visit the ' +\n",
              "            '<a target=\"_blank\" href=https://colab.research.google.com/notebooks/data_table.ipynb>data table notebook</a>'\n",
              "            + ' to learn more about interactive tables.';\n",
              "          element.innerHTML = '';\n",
              "          dataTable['output_type'] = 'display_data';\n",
              "          await google.colab.output.renderOutput(dataTable, element);\n",
              "          const docLink = document.createElement('div');\n",
              "          docLink.innerHTML = docLinkHtml;\n",
              "          element.appendChild(docLink);\n",
              "        }\n",
              "      </script>\n",
              "    </div>\n",
              "  </div>\n",
              "  "
            ]
          },
          "metadata": {},
          "execution_count": 24
        }
      ]
    },
    {
      "cell_type": "code",
      "source": [
        "train = spark.read.parquet(files['BTS']['DFW_train'])"
      ],
      "metadata": {
        "id": "YLpzJmymU-SV"
      },
      "execution_count": 16,
      "outputs": []
    },
    {
      "cell_type": "code",
      "source": [
        "test = spark.read.parquet(files['BTS']['DFW_test'])"
      ],
      "metadata": {
        "id": "zeKF-hMAV31B"
      },
      "execution_count": 37,
      "outputs": []
    },
    {
      "cell_type": "code",
      "source": [
        "train.show(1)"
      ],
      "metadata": {
        "colab": {
          "base_uri": "https://localhost:8080/"
        },
        "id": "4OErK0EQRowE",
        "outputId": "8aad1258-87f6-4584-ee8c-7ca5af5ad2ed"
      },
      "execution_count": 23,
      "outputs": [
        {
          "output_type": "stream",
          "name": "stdout",
          "text": [
            "+-------------+----+---------+---------------+------------------------+-------------+----------+---------------+-------------+--------+-------+---------------+------------------+-----------------+------+----+--------+-------------------------------+---------------+------------+------------------+------------+-----+----------------+----------+---------------+-------+--------+-------+------------------+-------------+----------+---------+------------+--------+--------------+---------+----------------+------+--------------------+--------+----------+-----------------+---------+--------+--------+-------+-------+----------+-----------+\n",
            "|DestStateFips|Dest|Cancelled|LongestAddGTime|DOT_ID_Reporting_Airline|TotalAddGTime|DepTimeBlk|OriginStateFips|SecurityDelay|ArrDel15|TaxiOut|ArrDelayMinutes|ArrivalDelayGroups|ActualElapsedTime|TaxiIn|Year|NASDelay|Flight_Number_Reporting_Airline|DepDelayMinutes|CarrierDelay|OriginAirportSeqID|FirstDepTime|Month|DestAirportSeqID|CRSDepTime|OriginAirportID|DepTime|ArrDelay|AirTime|OriginCityMarketID|DestAirportID|ArrTimeBlk|DayOfWeek|WeatherDelay|Diverted|CRSElapsedTime|WheelsOff|DestCityMarketID|Origin|DepartureDelayGroups|DepDelay|DayofMonth|LateAircraftDelay|OriginWac|WheelsOn|DepDel15|Flights|DestWac|FlightDate|Tail_Number|\n",
            "+-------------+----+---------+---------------+------------------------+-------------+----------+---------------+-------------+--------+-------+---------------+------------------+-----------------+------+----+--------+-------------------------------+---------------+------------+------------------+------------+-----+----------------+----------+---------------+-------+--------+-------+------------------+-------------+----------+---------+------------+--------+--------------+---------+----------------+------+--------------------+--------+----------+-----------------+---------+--------+--------+-------+-------+----------+-----------+\n",
            "|           13| ATL|      0.0|           null|                   19790|         null| 1200-1259|             48|         null|     0.0|   14.0|            2.0|                 0|            115.0|  11.0|2010|    null|                           1710|           12.0|        null|           1129802|            |   10|         1039703|      1200|          11298|   1212|     2.0|   90.0|             30194|        10397| 1500-1559|        2|        null|     0.0|         125.0|     1226|           30397|   DFW|                   0|    12.0|        12|             null|       74|    1456|     0.0|    1.0|     34|2010-10-12|     N528US|\n",
            "+-------------+----+---------+---------------+------------------------+-------------+----------+---------------+-------------+--------+-------+---------------+------------------+-----------------+------+----+--------+-------------------------------+---------------+------------+------------------+------------+-----+----------------+----------+---------------+-------+--------+-------+------------------+-------------+----------+---------+------------+--------+--------------+---------+----------------+------+--------------------+--------+----------+-----------------+---------+--------+--------+-------+-------+----------+-----------+\n",
            "only showing top 1 row\n",
            "\n"
          ]
        }
      ]
    },
    {
      "cell_type": "code",
      "source": [
        "pd.read_csv(files['Carriers'])"
      ],
      "metadata": {
        "colab": {
          "base_uri": "https://localhost:8080/",
          "height": 424
        },
        "id": "80Cjdgr1Rqup",
        "outputId": "4ef914d7-26ec-4942-c57f-f8f47140626d"
      },
      "execution_count": 31,
      "outputs": [
        {
          "output_type": "execute_result",
          "data": {
            "text/plain": [
              "        Code                    Description\n",
              "0        02Q                  Titan Airways\n",
              "1        04Q             Tradewind Aviation\n",
              "2        05Q            Comlux Aviation, AG\n",
              "3        06Q  Master Top Linhas Aereas Ltd.\n",
              "4        07Q            Flair Airlines Ltd.\n",
              "...      ...                            ...\n",
              "1716      ZW    Air Wisconsin Airlines Corp\n",
              "1717      ZX                   Air Georgian\n",
              "1718  ZX (1)                     Airbc Ltd.\n",
              "1719      ZY         Atlantic Gulf Airlines\n",
              "1720     ZYZ           Skyway Aviation Inc.\n",
              "\n",
              "[1721 rows x 2 columns]"
            ],
            "text/html": [
              "\n",
              "  <div id=\"df-8a10b2e6-01df-4263-b05f-a8017fbde57d\">\n",
              "    <div class=\"colab-df-container\">\n",
              "      <div>\n",
              "<style scoped>\n",
              "    .dataframe tbody tr th:only-of-type {\n",
              "        vertical-align: middle;\n",
              "    }\n",
              "\n",
              "    .dataframe tbody tr th {\n",
              "        vertical-align: top;\n",
              "    }\n",
              "\n",
              "    .dataframe thead th {\n",
              "        text-align: right;\n",
              "    }\n",
              "</style>\n",
              "<table border=\"1\" class=\"dataframe\">\n",
              "  <thead>\n",
              "    <tr style=\"text-align: right;\">\n",
              "      <th></th>\n",
              "      <th>Code</th>\n",
              "      <th>Description</th>\n",
              "    </tr>\n",
              "  </thead>\n",
              "  <tbody>\n",
              "    <tr>\n",
              "      <th>0</th>\n",
              "      <td>02Q</td>\n",
              "      <td>Titan Airways</td>\n",
              "    </tr>\n",
              "    <tr>\n",
              "      <th>1</th>\n",
              "      <td>04Q</td>\n",
              "      <td>Tradewind Aviation</td>\n",
              "    </tr>\n",
              "    <tr>\n",
              "      <th>2</th>\n",
              "      <td>05Q</td>\n",
              "      <td>Comlux Aviation, AG</td>\n",
              "    </tr>\n",
              "    <tr>\n",
              "      <th>3</th>\n",
              "      <td>06Q</td>\n",
              "      <td>Master Top Linhas Aereas Ltd.</td>\n",
              "    </tr>\n",
              "    <tr>\n",
              "      <th>4</th>\n",
              "      <td>07Q</td>\n",
              "      <td>Flair Airlines Ltd.</td>\n",
              "    </tr>\n",
              "    <tr>\n",
              "      <th>...</th>\n",
              "      <td>...</td>\n",
              "      <td>...</td>\n",
              "    </tr>\n",
              "    <tr>\n",
              "      <th>1716</th>\n",
              "      <td>ZW</td>\n",
              "      <td>Air Wisconsin Airlines Corp</td>\n",
              "    </tr>\n",
              "    <tr>\n",
              "      <th>1717</th>\n",
              "      <td>ZX</td>\n",
              "      <td>Air Georgian</td>\n",
              "    </tr>\n",
              "    <tr>\n",
              "      <th>1718</th>\n",
              "      <td>ZX (1)</td>\n",
              "      <td>Airbc Ltd.</td>\n",
              "    </tr>\n",
              "    <tr>\n",
              "      <th>1719</th>\n",
              "      <td>ZY</td>\n",
              "      <td>Atlantic Gulf Airlines</td>\n",
              "    </tr>\n",
              "    <tr>\n",
              "      <th>1720</th>\n",
              "      <td>ZYZ</td>\n",
              "      <td>Skyway Aviation Inc.</td>\n",
              "    </tr>\n",
              "  </tbody>\n",
              "</table>\n",
              "<p>1721 rows × 2 columns</p>\n",
              "</div>\n",
              "      <button class=\"colab-df-convert\" onclick=\"convertToInteractive('df-8a10b2e6-01df-4263-b05f-a8017fbde57d')\"\n",
              "              title=\"Convert this dataframe to an interactive table.\"\n",
              "              style=\"display:none;\">\n",
              "        \n",
              "  <svg xmlns=\"http://www.w3.org/2000/svg\" height=\"24px\"viewBox=\"0 0 24 24\"\n",
              "       width=\"24px\">\n",
              "    <path d=\"M0 0h24v24H0V0z\" fill=\"none\"/>\n",
              "    <path d=\"M18.56 5.44l.94 2.06.94-2.06 2.06-.94-2.06-.94-.94-2.06-.94 2.06-2.06.94zm-11 1L8.5 8.5l.94-2.06 2.06-.94-2.06-.94L8.5 2.5l-.94 2.06-2.06.94zm10 10l.94 2.06.94-2.06 2.06-.94-2.06-.94-.94-2.06-.94 2.06-2.06.94z\"/><path d=\"M17.41 7.96l-1.37-1.37c-.4-.4-.92-.59-1.43-.59-.52 0-1.04.2-1.43.59L10.3 9.45l-7.72 7.72c-.78.78-.78 2.05 0 2.83L4 21.41c.39.39.9.59 1.41.59.51 0 1.02-.2 1.41-.59l7.78-7.78 2.81-2.81c.8-.78.8-2.07 0-2.86zM5.41 20L4 18.59l7.72-7.72 1.47 1.35L5.41 20z\"/>\n",
              "  </svg>\n",
              "      </button>\n",
              "      \n",
              "  <style>\n",
              "    .colab-df-container {\n",
              "      display:flex;\n",
              "      flex-wrap:wrap;\n",
              "      gap: 12px;\n",
              "    }\n",
              "\n",
              "    .colab-df-convert {\n",
              "      background-color: #E8F0FE;\n",
              "      border: none;\n",
              "      border-radius: 50%;\n",
              "      cursor: pointer;\n",
              "      display: none;\n",
              "      fill: #1967D2;\n",
              "      height: 32px;\n",
              "      padding: 0 0 0 0;\n",
              "      width: 32px;\n",
              "    }\n",
              "\n",
              "    .colab-df-convert:hover {\n",
              "      background-color: #E2EBFA;\n",
              "      box-shadow: 0px 1px 2px rgba(60, 64, 67, 0.3), 0px 1px 3px 1px rgba(60, 64, 67, 0.15);\n",
              "      fill: #174EA6;\n",
              "    }\n",
              "\n",
              "    [theme=dark] .colab-df-convert {\n",
              "      background-color: #3B4455;\n",
              "      fill: #D2E3FC;\n",
              "    }\n",
              "\n",
              "    [theme=dark] .colab-df-convert:hover {\n",
              "      background-color: #434B5C;\n",
              "      box-shadow: 0px 1px 3px 1px rgba(0, 0, 0, 0.15);\n",
              "      filter: drop-shadow(0px 1px 2px rgba(0, 0, 0, 0.3));\n",
              "      fill: #FFFFFF;\n",
              "    }\n",
              "  </style>\n",
              "\n",
              "      <script>\n",
              "        const buttonEl =\n",
              "          document.querySelector('#df-8a10b2e6-01df-4263-b05f-a8017fbde57d button.colab-df-convert');\n",
              "        buttonEl.style.display =\n",
              "          google.colab.kernel.accessAllowed ? 'block' : 'none';\n",
              "\n",
              "        async function convertToInteractive(key) {\n",
              "          const element = document.querySelector('#df-8a10b2e6-01df-4263-b05f-a8017fbde57d');\n",
              "          const dataTable =\n",
              "            await google.colab.kernel.invokeFunction('convertToInteractive',\n",
              "                                                     [key], {});\n",
              "          if (!dataTable) return;\n",
              "\n",
              "          const docLinkHtml = 'Like what you see? Visit the ' +\n",
              "            '<a target=\"_blank\" href=https://colab.research.google.com/notebooks/data_table.ipynb>data table notebook</a>'\n",
              "            + ' to learn more about interactive tables.';\n",
              "          element.innerHTML = '';\n",
              "          dataTable['output_type'] = 'display_data';\n",
              "          await google.colab.output.renderOutput(dataTable, element);\n",
              "          const docLink = document.createElement('div');\n",
              "          docLink.innerHTML = docLinkHtml;\n",
              "          element.appendChild(docLink);\n",
              "        }\n",
              "      </script>\n",
              "    </div>\n",
              "  </div>\n",
              "  "
            ]
          },
          "metadata": {},
          "execution_count": 31
        }
      ]
    },
    {
      "cell_type": "code",
      "source": [
        "md = spark.read.parquet('/content/drive/Shareddrives/STUDENT-Capstone SS23/Model_Data/DFW_All_Flight_Measurements/part-00000-76e08f2d-0866-4947-b3ca-489c635d74c8-c000.snappy.parquet')"
      ],
      "metadata": {
        "id": "xJD1bmXMXf38"
      },
      "execution_count": 28,
      "outputs": []
    },
    {
      "cell_type": "code",
      "source": [
        "md.show(5)"
      ],
      "metadata": {
        "colab": {
          "base_uri": "https://localhost:8080/"
        },
        "id": "JDrs7yo6FhKz",
        "outputId": "3909c0f2-7ba8-455a-a279-b122c76997dc"
      },
      "execution_count": 29,
      "outputs": [
        {
          "output_type": "stream",
          "name": "stdout",
          "text": [
            "+-------------------+-------------------+-------------------+------------+-----------+------+------------+---------+---------+-----------+--------+-------+-------+-------+---------+--------------+--------------+---------------+-------+----------------+-----------+-----------+-----------+---------------+--------------------+----------------------+----------------+\n",
            "|         Flight_Num|    Flight_DateTime|        WeatherDtTm|WeatherDelay|w_dir_angle|w_type|w_speed_rate|sky_c_hgt|sky_c_det|sky_c_cavok|vis_dist|vis_var|tmp_air|tmp_dew|sea_lvl_p|liq_precip_qty|liq_precip_dim|liq_precip_cond|sky_cov|sky_cov_base_hgt|sky_cov_cld|sky_sum_cov|sky_sum_hgt|sky_obs_tot_cov|sky_low_cld_base_hgt|at_pres_altimeter_rate|at_pres_stn_rate|\n",
            "+-------------------+-------------------+-------------------+------------+-----------+------+------------+---------+---------+-----------+--------+-------+-------+-------+---------+--------------+--------------+---------------+-------+----------------+-----------+-----------+-----------+---------------+--------------------+----------------------+----------------+\n",
            "|19805_71_2014-08-21|2014-08-21 19:28:00|2014-08-21 18:53:00|        null|        210|     N|          82|    22000|        9|          N|   16093|      N|    350|    211|    10147|            01|             0|              9|     04|            1524|         99|          2|       1524|             99|                1524|                 10159|            9942|\n",
            "|19805_71_2014-08-21|2014-08-21 19:28:00|2014-08-21 18:53:00|        null|        210|     N|          82|    22000|        9|          N|   16093|      N|    350|    211|    10147|            01|             0|              9|     04|            1524|         99|          2|       1524|             99|                1524|                 10159|            9942|\n",
            "|19805_71_2014-08-21|2014-08-21 19:28:00|2014-08-21 18:53:00|        null|        210|     N|          82|    22000|        9|          N|   16093|      N|    350|    211|    10147|            01|             0|              9|     04|            1524|         99|          2|       1524|             99|                1524|                 10159|            9942|\n",
            "|19805_71_2014-08-21|2014-08-21 19:28:00|2014-08-21 18:53:00|        null|        210|     N|          82|    22000|        9|          N|   16093|      N|    350|    211|    10147|            01|             0|              9|     04|            1524|         99|          2|       1524|             99|                1524|                 10159|            9942|\n",
            "|19805_71_2014-08-21|2014-08-21 19:28:00|2014-08-21 18:53:00|        null|        210|     N|          82|    22000|        9|          N|   16093|      N|    350|    211|    10147|            01|             0|              9|     04|            1524|         99|          2|       1524|             99|                1524|                 10159|            9942|\n",
            "+-------------------+-------------------+-------------------+------------+-----------+------+------------+---------+---------+-----------+--------+-------+-------+-------+---------+--------------+--------------+---------------+-------+----------------+-----------+-----------+-----------+---------------+--------------------+----------------------+----------------+\n",
            "only showing top 5 rows\n",
            "\n"
          ]
        }
      ]
    },
    {
      "cell_type": "code",
      "source": [],
      "metadata": {
        "id": "Fbios6qnFioK"
      },
      "execution_count": null,
      "outputs": []
    }
  ]
}